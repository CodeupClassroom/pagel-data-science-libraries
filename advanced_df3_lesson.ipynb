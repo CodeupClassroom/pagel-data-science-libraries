{
 "cells": [
  {
   "cell_type": "markdown",
   "id": "c64ba79b",
   "metadata": {},
   "source": [
    "# Advanced Dataframes"
   ]
  },
  {
   "cell_type": "markdown",
   "id": "85e19d31",
   "metadata": {},
   "source": [
    "## Part 3 - Reshaping\n",
    "- crosstab\n",
    "- pivot_table"
   ]
  },
  {
   "cell_type": "code",
   "execution_count": null,
   "id": "18d808a6",
   "metadata": {},
   "outputs": [],
   "source": [
    "import pandas as pd\n",
    "import numpy as np\n",
    "\n",
    "np.random.seed(123)"
   ]
  },
  {
   "cell_type": "code",
   "execution_count": null,
   "id": "f8fd799e",
   "metadata": {},
   "outputs": [],
   "source": [
    "# Create list of values for names column.\n",
    "students = ['Sally', 'Jane', 'Suzie', 'Billy', 'Ada', 'John', 'Thomas',\n",
    "            'Marie', 'Albert', 'Richard', 'Isaac', 'Alan']\n",
    "\n",
    "# Randomly generate arrays of scores for each student for each subject.\n",
    "# Note that all the values need to have the same length here.\n",
    "math_grades = np.random.randint(low=60, high=100, size=len(students))\n",
    "english_grades = np.random.randint(low=60, high=100, size=len(students))\n",
    "reading_grades = np.random.randint(low=60, high=100, size=len(students))\n",
    "\n",
    "# Randomly generate if a student is in classroom A or classroom B\n",
    "classroom = np.random.choice(['A1', 'B1'], len(students))\n",
    "\n",
    "df = pd.DataFrame({'name':students,\n",
    "                   'math':math_grades,\n",
    "                   'reading':reading_grades,\n",
    "                   'english':english_grades,\n",
    "                   'room':classroom})\n",
    "\n",
    "#calculated overall grade and letter\n",
    "df['overall_grade'] = df[['math','reading','english']].mean(axis=1).round(1)\n",
    "\n",
    "#np.where(condition, output if true, output if false)\n",
    "df['overall_letter'] = np.where(df.overall_grade >= 90, 'A', \n",
    "                                np.where(df.overall_grade >= 80, 'B','C'))\n",
    "\n",
    "df"
   ]
  },
  {
   "cell_type": "markdown",
   "id": "38102089",
   "metadata": {},
   "source": [
    "## Using `.crosstab`\n",
    "COUNT the number of occurances between each subgroup\n",
    "- format: `pd.crosstab(index=_, column=_)`"
   ]
  },
  {
   "cell_type": "markdown",
   "id": "2e76f716",
   "metadata": {},
   "source": [
    "#### find all counts of the room and overall letter grade"
   ]
  },
  {
   "cell_type": "code",
   "execution_count": null,
   "id": "29c99037",
   "metadata": {},
   "outputs": [],
   "source": []
  },
  {
   "cell_type": "markdown",
   "id": "53760f5b",
   "metadata": {},
   "source": [
    "#### add total counts"
   ]
  },
  {
   "cell_type": "code",
   "execution_count": null,
   "id": "f0a8d675",
   "metadata": {},
   "outputs": [],
   "source": [
    "#margins argument\n"
   ]
  },
  {
   "cell_type": "markdown",
   "id": "4958c78d",
   "metadata": {},
   "source": [
    "#### give percentages instead of counts"
   ]
  },
  {
   "cell_type": "code",
   "execution_count": null,
   "id": "369634c8",
   "metadata": {},
   "outputs": [],
   "source": [
    "#normalize argument\n"
   ]
  },
  {
   "cell_type": "code",
   "execution_count": null,
   "id": "b428d5ae",
   "metadata": {},
   "outputs": [],
   "source": []
  },
  {
   "cell_type": "code",
   "execution_count": null,
   "id": "e85343a5",
   "metadata": {},
   "outputs": [],
   "source": []
  },
  {
   "cell_type": "markdown",
   "id": "0133459d",
   "metadata": {},
   "source": [
    "### Using `.pivot_table`"
   ]
  },
  {
   "cell_type": "markdown",
   "id": "fa170601",
   "metadata": {},
   "source": [
    "creates a summary table similar to excel pivot table \n",
    "\n",
    "need to include 3 of the following:\n",
    "- which values will make up the rows (the index)\n",
    "- which values will make up the columns\n",
    "- the values we are aggregating\n",
    "- an aggregation method (aggfunc); if we can omit this, and mean will be used by default\n",
    "\n",
    "format: `pd.pivot_table(data=_, index=_, columns=_, values=_, aggfunc=_)`"
   ]
  },
  {
   "cell_type": "markdown",
   "id": "e0055dc9",
   "metadata": {},
   "source": [
    "#### show the average math grade by overall letter grade and room"
   ]
  },
  {
   "cell_type": "code",
   "execution_count": null,
   "id": "b8caa080",
   "metadata": {},
   "outputs": [],
   "source": []
  },
  {
   "cell_type": "markdown",
   "id": "71f29463",
   "metadata": {},
   "source": [
    "#### show the MAX math grade by overall letter grade and room"
   ]
  },
  {
   "cell_type": "code",
   "execution_count": null,
   "id": "79b32eca",
   "metadata": {},
   "outputs": [],
   "source": []
  },
  {
   "cell_type": "markdown",
   "id": "ba4efa3a",
   "metadata": {},
   "source": [
    "> NOTE: `index` and `columns` should be categorical values, and `values` should be numeric"
   ]
  },
  {
   "cell_type": "code",
   "execution_count": null,
   "id": "245a0847",
   "metadata": {},
   "outputs": [],
   "source": [
    "#not what we want\n"
   ]
  },
  {
   "cell_type": "markdown",
   "id": "8e8c4b56",
   "metadata": {},
   "source": [
    "### Using `.map`"
   ]
  },
  {
   "cell_type": "markdown",
   "id": "4a5f85a7",
   "metadata": {},
   "source": [
    "Use a dictionary to assign new values based on current values\n",
    "1. create a dictionary of new values based on old\n",
    "2. use map to apply it to df\n",
    "\n",
    "- format: `.map({'old_value':'new_value'})`"
   ]
  },
  {
   "cell_type": "markdown",
   "id": "a2990360",
   "metadata": {},
   "source": [
    "#### create new df of restuarant data"
   ]
  },
  {
   "cell_type": "code",
   "execution_count": null,
   "id": "451a7f31",
   "metadata": {},
   "outputs": [],
   "source": [
    "n = 40\n",
    "\n",
    "df = pd.DataFrame({\n",
    "    'drink': np.random.choice(['Tea', 'Water', 'Water'], n),\n",
    "    \n",
    "    'meal': np.random.choice(['Curry', 'Yakisoba Noodle', 'Pad Thai'], n),\n",
    "})\n",
    "\n",
    "df.sample(10)"
   ]
  },
  {
   "cell_type": "markdown",
   "id": "58ac7f94",
   "metadata": {},
   "source": [
    "#### what are all unique drink & meal values"
   ]
  },
  {
   "cell_type": "code",
   "execution_count": null,
   "id": "94eddf4a",
   "metadata": {},
   "outputs": [],
   "source": []
  },
  {
   "cell_type": "code",
   "execution_count": null,
   "id": "28c56759",
   "metadata": {},
   "outputs": [],
   "source": []
  },
  {
   "cell_type": "markdown",
   "id": "25ee831c",
   "metadata": {},
   "source": [
    "#### create dictionary of prices for all current items"
   ]
  },
  {
   "cell_type": "code",
   "execution_count": null,
   "id": "459f779f",
   "metadata": {},
   "outputs": [],
   "source": [
    "#dictionary format: {key:value}\n",
    "{\n",
    "    'Yakisoba Noodle': 9,\n",
    "    'Curry': 11,\n",
    "    'Pad Thai': 10,\n",
    "    'Tea': 2,\n",
    "    'Water': 0,\n",
    "}"
   ]
  },
  {
   "cell_type": "markdown",
   "id": "bc866288",
   "metadata": {},
   "source": [
    "#### map drink prices and meal prices to create bill\n",
    "- bill will include price of both"
   ]
  },
  {
   "cell_type": "code",
   "execution_count": null,
   "id": "c04b36b9",
   "metadata": {},
   "outputs": [],
   "source": []
  },
  {
   "cell_type": "code",
   "execution_count": null,
   "id": "11999995",
   "metadata": {},
   "outputs": [],
   "source": []
  },
  {
   "cell_type": "markdown",
   "id": "5eeb2a21",
   "metadata": {},
   "source": [
    "#### how many orders of each combination of meal and drink are there?"
   ]
  },
  {
   "cell_type": "code",
   "execution_count": null,
   "id": "9365f420",
   "metadata": {},
   "outputs": [],
   "source": []
  },
  {
   "cell_type": "code",
   "execution_count": null,
   "id": "e33947f2",
   "metadata": {},
   "outputs": [],
   "source": []
  },
  {
   "cell_type": "markdown",
   "id": "e14fb7b3",
   "metadata": {},
   "source": [
    "#### what percentage of each?"
   ]
  },
  {
   "cell_type": "code",
   "execution_count": null,
   "id": "9dc30ef2",
   "metadata": {},
   "outputs": [],
   "source": []
  },
  {
   "cell_type": "markdown",
   "id": "556b043c",
   "metadata": {},
   "source": [
    "#### whats the average bill for each combination?"
   ]
  },
  {
   "cell_type": "code",
   "execution_count": null,
   "id": "40c394f2",
   "metadata": {},
   "outputs": [],
   "source": []
  },
  {
   "cell_type": "markdown",
   "id": "f3ccf51e",
   "metadata": {},
   "source": [
    "#### we can also get this by using a groupby"
   ]
  },
  {
   "cell_type": "code",
   "execution_count": null,
   "id": "e67e7a98",
   "metadata": {},
   "outputs": [],
   "source": []
  }
 ],
 "metadata": {
  "kernelspec": {
   "display_name": "Python 3 (ipykernel)",
   "language": "python",
   "name": "python3"
  },
  "language_info": {
   "codemirror_mode": {
    "name": "ipython",
    "version": 3
   },
   "file_extension": ".py",
   "mimetype": "text/x-python",
   "name": "python",
   "nbconvert_exporter": "python",
   "pygments_lexer": "ipython3",
   "version": "3.9.12"
  }
 },
 "nbformat": 4,
 "nbformat_minor": 5
}
