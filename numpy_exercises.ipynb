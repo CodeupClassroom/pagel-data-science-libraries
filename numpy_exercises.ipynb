{
 "cells": [
  {
   "cell_type": "markdown",
   "id": "d8d7471f",
   "metadata": {},
   "source": [
    "### Use the following code for the questions below:"
   ]
  },
  {
   "cell_type": "code",
   "execution_count": 2,
   "id": "264bd958",
   "metadata": {},
   "outputs": [],
   "source": [
    "import numpy as np"
   ]
  },
  {
   "cell_type": "code",
   "execution_count": 3,
   "id": "c9410551",
   "metadata": {},
   "outputs": [],
   "source": [
    "a = np.array([4, 10, 12, 23, -2, -1, 0, 0, 0, -6, 3, -7])"
   ]
  },
  {
   "cell_type": "code",
   "execution_count": 4,
   "id": "68b1e19d",
   "metadata": {},
   "outputs": [
    {
     "data": {
      "text/plain": [
       "array([ 4, 10, 12, 23, -2, -1,  0,  0,  0, -6,  3, -7])"
      ]
     },
     "execution_count": 4,
     "metadata": {},
     "output_type": "execute_result"
    }
   ],
   "source": [
    "a"
   ]
  },
  {
   "cell_type": "markdown",
   "id": "4121530d",
   "metadata": {},
   "source": [
    "### How many negative numbers are there?"
   ]
  },
  {
   "cell_type": "code",
   "execution_count": 5,
   "id": "2c5411dc",
   "metadata": {},
   "outputs": [
    {
     "data": {
      "text/plain": [
       "array([False, False, False, False,  True,  True, False, False, False,\n",
       "        True, False,  True])"
      ]
     },
     "execution_count": 5,
     "metadata": {},
     "output_type": "execute_result"
    }
   ],
   "source": [
    "a < 0"
   ]
  },
  {
   "cell_type": "code",
   "execution_count": 6,
   "id": "045ca0d6",
   "metadata": {},
   "outputs": [
    {
     "data": {
      "text/plain": [
       "array([-2, -1, -6, -7])"
      ]
     },
     "execution_count": 6,
     "metadata": {},
     "output_type": "execute_result"
    }
   ],
   "source": [
    "a[a<0]"
   ]
  },
  {
   "cell_type": "code",
   "execution_count": 7,
   "id": "d2a3a1b9",
   "metadata": {},
   "outputs": [
    {
     "data": {
      "text/plain": [
       "4"
      ]
     },
     "execution_count": 7,
     "metadata": {},
     "output_type": "execute_result"
    }
   ],
   "source": [
    "len(a[a<0])"
   ]
  },
  {
   "cell_type": "markdown",
   "id": "13500d14",
   "metadata": {},
   "source": [
    "### How many positive numbers are there?"
   ]
  },
  {
   "cell_type": "code",
   "execution_count": 8,
   "id": "f413ddb5",
   "metadata": {},
   "outputs": [
    {
     "data": {
      "text/plain": [
       "5"
      ]
     },
     "execution_count": 8,
     "metadata": {},
     "output_type": "execute_result"
    }
   ],
   "source": [
    "len(a[a>0])"
   ]
  },
  {
   "cell_type": "markdown",
   "id": "38913e51",
   "metadata": {},
   "source": [
    "### How many even positive numbers are there?"
   ]
  },
  {
   "cell_type": "code",
   "execution_count": 10,
   "id": "3b26b66a",
   "metadata": {},
   "outputs": [],
   "source": [
    "pos_nums = a[a>0]"
   ]
  },
  {
   "cell_type": "code",
   "execution_count": 11,
   "id": "6ab7ce19",
   "metadata": {},
   "outputs": [
    {
     "data": {
      "text/plain": [
       "array([ 4, 10, 12, 23,  3])"
      ]
     },
     "execution_count": 11,
     "metadata": {},
     "output_type": "execute_result"
    }
   ],
   "source": [
    "pos_nums"
   ]
  },
  {
   "cell_type": "code",
   "execution_count": 12,
   "id": "cb356374",
   "metadata": {},
   "outputs": [
    {
     "data": {
      "text/plain": [
       "array([ 4, 10, 12])"
      ]
     },
     "execution_count": 12,
     "metadata": {},
     "output_type": "execute_result"
    }
   ],
   "source": [
    "pos_nums[pos_nums % 2 == 0]"
   ]
  },
  {
   "cell_type": "code",
   "execution_count": 13,
   "id": "7d5cf3e0",
   "metadata": {},
   "outputs": [
    {
     "data": {
      "text/plain": [
       "3"
      ]
     },
     "execution_count": 13,
     "metadata": {},
     "output_type": "execute_result"
    }
   ],
   "source": [
    "len(pos_nums[pos_nums % 2 == 0])"
   ]
  },
  {
   "cell_type": "markdown",
   "id": "b52fc89a",
   "metadata": {},
   "source": [
    "### if you were to add 3 to each data point, how many positive numbers would there be?"
   ]
  },
  {
   "cell_type": "code",
   "execution_count": 20,
   "id": "d7e0dae8",
   "metadata": {},
   "outputs": [
    {
     "data": {
      "text/plain": [
       "array([ 7, 13, 15, 26,  1,  2,  3,  3,  3, -3,  6, -4])"
      ]
     },
     "execution_count": 20,
     "metadata": {},
     "output_type": "execute_result"
    }
   ],
   "source": [
    "a+3"
   ]
  },
  {
   "cell_type": "code",
   "execution_count": 22,
   "id": "afe9ce06",
   "metadata": {
    "scrolled": true
   },
   "outputs": [
    {
     "data": {
      "text/plain": [
       "10"
      ]
     },
     "execution_count": 22,
     "metadata": {},
     "output_type": "execute_result"
    }
   ],
   "source": [
    "len(a[(a+3)>0])"
   ]
  },
  {
   "cell_type": "markdown",
   "id": "eb06568b",
   "metadata": {},
   "source": [
    "### If you squared each number, what would the new mean and standard deviation be?"
   ]
  },
  {
   "cell_type": "code",
   "execution_count": 23,
   "id": "ae042f7e",
   "metadata": {},
   "outputs": [],
   "source": [
    "a_squared = a ** 2"
   ]
  },
  {
   "cell_type": "code",
   "execution_count": 24,
   "id": "e573dd41",
   "metadata": {},
   "outputs": [
    {
     "data": {
      "text/plain": [
       "array([ 16, 100, 144, 529,   4,   1,   0,   0,   0,  36,   9,  49])"
      ]
     },
     "execution_count": 24,
     "metadata": {},
     "output_type": "execute_result"
    }
   ],
   "source": [
    "a_squared"
   ]
  },
  {
   "cell_type": "code",
   "execution_count": 25,
   "id": "5957d1cc",
   "metadata": {},
   "outputs": [
    {
     "data": {
      "text/plain": [
       "74.0"
      ]
     },
     "execution_count": 25,
     "metadata": {},
     "output_type": "execute_result"
    }
   ],
   "source": [
    "a_squared.mean()"
   ]
  },
  {
   "cell_type": "code",
   "execution_count": 26,
   "id": "98fe9135",
   "metadata": {},
   "outputs": [
    {
     "data": {
      "text/plain": [
       "144.0243035046516"
      ]
     },
     "execution_count": 26,
     "metadata": {},
     "output_type": "execute_result"
    }
   ],
   "source": [
    "a_squared.std()"
   ]
  },
  {
   "cell_type": "markdown",
   "id": "5ca887c2",
   "metadata": {},
   "source": [
    "### A common statistical operation on a dataset is centering. This means to adjust the data such that the mean of the data is 0."
   ]
  },
  {
   "cell_type": "code",
   "execution_count": 27,
   "id": "5e52b1db",
   "metadata": {},
   "outputs": [],
   "source": [
    "centered_a = a - a.mean()"
   ]
  },
  {
   "cell_type": "code",
   "execution_count": 28,
   "id": "bf1e81b4",
   "metadata": {},
   "outputs": [
    {
     "data": {
      "text/plain": [
       "array([  1.,   7.,   9.,  20.,  -5.,  -4.,  -3.,  -3.,  -3.,  -9.,   0.,\n",
       "       -10.])"
      ]
     },
     "execution_count": 28,
     "metadata": {},
     "output_type": "execute_result"
    }
   ],
   "source": [
    "centered_a"
   ]
  },
  {
   "cell_type": "code",
   "execution_count": 29,
   "id": "a8c1b052",
   "metadata": {},
   "outputs": [
    {
     "data": {
      "text/plain": [
       "0.0"
      ]
     },
     "execution_count": 29,
     "metadata": {},
     "output_type": "execute_result"
    }
   ],
   "source": [
    "centered_a.mean()"
   ]
  },
  {
   "cell_type": "markdown",
   "id": "03004f9e",
   "metadata": {},
   "source": [
    "### Calculate the z-score for each data point."
   ]
  },
  {
   "cell_type": "code",
   "execution_count": 30,
   "id": "27094eb5",
   "metadata": {},
   "outputs": [],
   "source": [
    "z_scores = centered_a / a.std()"
   ]
  },
  {
   "cell_type": "code",
   "execution_count": 31,
   "id": "2171055b",
   "metadata": {},
   "outputs": [
    {
     "data": {
      "text/plain": [
       "array([ 0.12403473,  0.86824314,  1.11631261,  2.48069469, -0.62017367,\n",
       "       -0.49613894, -0.3721042 , -0.3721042 , -0.3721042 , -1.11631261,\n",
       "        0.        , -1.24034735])"
      ]
     },
     "execution_count": 31,
     "metadata": {},
     "output_type": "execute_result"
    }
   ],
   "source": [
    "z_scores"
   ]
  },
  {
   "cell_type": "markdown",
   "id": "17cb6955",
   "metadata": {},
   "source": [
    "### Use the more numpy practice link and follow the questions within it.\n",
    "### Setup 1"
   ]
  },
  {
   "cell_type": "code",
   "execution_count": 32,
   "id": "fcc8de5c",
   "metadata": {},
   "outputs": [],
   "source": [
    "a = [1, 2, 3, 4, 5, 6, 7, 8, 9, 10]"
   ]
  },
  {
   "cell_type": "markdown",
   "id": "89597b29",
   "metadata": {},
   "source": [
    "### Use python's built in functionality/operators to determine the following:\n",
    "### Exercise 1 - Make a variable called sum_of_a to hold the sum of all the numbers in above list"
   ]
  },
  {
   "cell_type": "code",
   "execution_count": 33,
   "id": "58a38e87",
   "metadata": {},
   "outputs": [
    {
     "data": {
      "text/plain": [
       "list"
      ]
     },
     "execution_count": 33,
     "metadata": {},
     "output_type": "execute_result"
    }
   ],
   "source": [
    "type(a)"
   ]
  },
  {
   "cell_type": "code",
   "execution_count": 34,
   "id": "e47d9745",
   "metadata": {},
   "outputs": [
    {
     "data": {
      "text/plain": [
       "55"
      ]
     },
     "execution_count": 34,
     "metadata": {},
     "output_type": "execute_result"
    }
   ],
   "source": [
    "sum(a)"
   ]
  },
  {
   "cell_type": "markdown",
   "id": "020ce6aa",
   "metadata": {},
   "source": [
    "### Exercise 2 - Make a variable named min_of_a to hold the minimum of all the numbers in the above list"
   ]
  },
  {
   "cell_type": "code",
   "execution_count": 35,
   "id": "9147bef4",
   "metadata": {},
   "outputs": [
    {
     "data": {
      "text/plain": [
       "1"
      ]
     },
     "execution_count": 35,
     "metadata": {},
     "output_type": "execute_result"
    }
   ],
   "source": [
    "min(a)"
   ]
  },
  {
   "cell_type": "markdown",
   "id": "72c514d2",
   "metadata": {},
   "source": [
    "### Exercise 3 - Make a variable named max_of_a to hold the max number of all the numbers in the above list"
   ]
  },
  {
   "cell_type": "code",
   "execution_count": 36,
   "id": "843c40c1",
   "metadata": {},
   "outputs": [
    {
     "data": {
      "text/plain": [
       "10"
      ]
     },
     "execution_count": 36,
     "metadata": {},
     "output_type": "execute_result"
    }
   ],
   "source": [
    "max(a)"
   ]
  },
  {
   "cell_type": "markdown",
   "id": "f5ead568",
   "metadata": {},
   "source": [
    "### Exercise 4 - Make a variable named mean_of_a to hold the average of all the numbers in the above list"
   ]
  },
  {
   "cell_type": "code",
   "execution_count": 37,
   "id": "1dbf7d82",
   "metadata": {},
   "outputs": [
    {
     "data": {
      "text/plain": [
       "5.5"
      ]
     },
     "execution_count": 37,
     "metadata": {},
     "output_type": "execute_result"
    }
   ],
   "source": [
    "sum(a) / len(a)"
   ]
  },
  {
   "cell_type": "markdown",
   "id": "33312e4b",
   "metadata": {},
   "source": [
    "### Exercise 5 - Make a variable named product_of_a to hold the product of multiplying all the numbers in the above list together"
   ]
  },
  {
   "cell_type": "code",
   "execution_count": 38,
   "id": "abadb1b2",
   "metadata": {},
   "outputs": [],
   "source": [
    "prod_a = 1\n",
    "for n in a:\n",
    "    prod_a *= n"
   ]
  },
  {
   "cell_type": "code",
   "execution_count": 39,
   "id": "326ba80b",
   "metadata": {},
   "outputs": [
    {
     "data": {
      "text/plain": [
       "3628800"
      ]
     },
     "execution_count": 39,
     "metadata": {},
     "output_type": "execute_result"
    }
   ],
   "source": [
    "prod_a"
   ]
  },
  {
   "cell_type": "markdown",
   "id": "958f7afc",
   "metadata": {},
   "source": [
    "### Exercise 6 - Make a variable named squares_of_a. It should hold each number in a squared like [1, 4, 9, 16, 25...]"
   ]
  },
  {
   "cell_type": "code",
   "execution_count": 40,
   "id": "6a4bd323",
   "metadata": {},
   "outputs": [
    {
     "data": {
      "text/plain": [
       "[1, 4, 9, 16, 25, 36, 49, 64, 81, 100]"
      ]
     },
     "execution_count": 40,
     "metadata": {},
     "output_type": "execute_result"
    }
   ],
   "source": [
    "[n ** 2 for n in a]"
   ]
  },
  {
   "cell_type": "markdown",
   "id": "a7c0fba7",
   "metadata": {},
   "source": [
    "### Exercise 7 - Make a variable named odds_in_a. It should hold only the odd numbers"
   ]
  },
  {
   "cell_type": "code",
   "execution_count": 41,
   "id": "474fae21",
   "metadata": {},
   "outputs": [
    {
     "data": {
      "text/plain": [
       "[1, 3, 5, 7, 9]"
      ]
     },
     "execution_count": 41,
     "metadata": {},
     "output_type": "execute_result"
    }
   ],
   "source": [
    "[n for n in a if n % 2 != 0]"
   ]
  },
  {
   "cell_type": "markdown",
   "id": "46d1eae1",
   "metadata": {},
   "source": [
    "### Exercise 8 - Make a variable named evens_in_a. It should hold only the evens."
   ]
  },
  {
   "cell_type": "code",
   "execution_count": 42,
   "id": "6a172bf4",
   "metadata": {},
   "outputs": [
    {
     "data": {
      "text/plain": [
       "[2, 4, 6, 8, 10]"
      ]
     },
     "execution_count": 42,
     "metadata": {},
     "output_type": "execute_result"
    }
   ],
   "source": [
    "[n for n in a if n % 2 == 0]"
   ]
  },
  {
   "cell_type": "markdown",
   "id": "528a53eb",
   "metadata": {},
   "source": [
    "### What about life in two dimensions? A list of lists is matrix, a table, a spreadsheet, a chessboard...\n",
    "### Setup 2: Consider what it would take to find the sum, min, max, average, sum, product, and list of squares for this list of two lists."
   ]
  },
  {
   "cell_type": "code",
   "execution_count": 44,
   "id": "c2d3f95f",
   "metadata": {},
   "outputs": [],
   "source": [
    "b = [\n",
    "    [3, 4, 5],\n",
    "    [6, 7, 8]\n",
    "]\n",
    "\n",
    "b2 = np.array(b)"
   ]
  },
  {
   "cell_type": "code",
   "execution_count": 46,
   "id": "d6e9a79e",
   "metadata": {},
   "outputs": [
    {
     "data": {
      "text/plain": [
       "[[3, 4, 5], [6, 7, 8]]"
      ]
     },
     "execution_count": 46,
     "metadata": {},
     "output_type": "execute_result"
    }
   ],
   "source": [
    "b"
   ]
  },
  {
   "cell_type": "code",
   "execution_count": 45,
   "id": "afcf5e36",
   "metadata": {},
   "outputs": [
    {
     "data": {
      "text/plain": [
       "array([[3, 4, 5],\n",
       "       [6, 7, 8]])"
      ]
     },
     "execution_count": 45,
     "metadata": {},
     "output_type": "execute_result"
    }
   ],
   "source": [
    "b2"
   ]
  },
  {
   "cell_type": "markdown",
   "id": "de0581bd",
   "metadata": {},
   "source": [
    "### Exercise 1 - refactor the following to use numpy. Use sum_of_b as the variable. **Hint, you'll first need to make sure that the \"b\" variable is a numpy array**"
   ]
  },
  {
   "cell_type": "code",
   "execution_count": 47,
   "id": "8d9665c6",
   "metadata": {},
   "outputs": [],
   "source": [
    "sum_of_b = 0\n",
    "for row in b:\n",
    "    sum_of_b += sum(row)"
   ]
  },
  {
   "cell_type": "code",
   "execution_count": 48,
   "id": "0a743e8a",
   "metadata": {},
   "outputs": [
    {
     "data": {
      "text/plain": [
       "33"
      ]
     },
     "execution_count": 48,
     "metadata": {},
     "output_type": "execute_result"
    }
   ],
   "source": [
    "sum_of_b"
   ]
  },
  {
   "cell_type": "code",
   "execution_count": 51,
   "id": "a45fe555",
   "metadata": {},
   "outputs": [
    {
     "data": {
      "text/plain": [
       "33"
      ]
     },
     "execution_count": 51,
     "metadata": {},
     "output_type": "execute_result"
    }
   ],
   "source": [
    "b2.sum()"
   ]
  },
  {
   "cell_type": "markdown",
   "id": "1dbdf222",
   "metadata": {},
   "source": [
    "### Exercise 2 - refactor the following to use numpy. "
   ]
  },
  {
   "cell_type": "code",
   "execution_count": 52,
   "id": "35c2ad67",
   "metadata": {},
   "outputs": [],
   "source": [
    "min_of_b = min(b[0]) if min(b[0]) <= min(b[1]) else min(b[1])  "
   ]
  },
  {
   "cell_type": "code",
   "execution_count": 53,
   "id": "5e03cecb",
   "metadata": {},
   "outputs": [
    {
     "data": {
      "text/plain": [
       "3"
      ]
     },
     "execution_count": 53,
     "metadata": {},
     "output_type": "execute_result"
    }
   ],
   "source": [
    "min_of_b"
   ]
  },
  {
   "cell_type": "code",
   "execution_count": 55,
   "id": "84f7606f",
   "metadata": {},
   "outputs": [
    {
     "data": {
      "text/plain": [
       "3"
      ]
     },
     "execution_count": 55,
     "metadata": {},
     "output_type": "execute_result"
    }
   ],
   "source": [
    "b2.min()"
   ]
  },
  {
   "cell_type": "markdown",
   "id": "66841da9",
   "metadata": {},
   "source": [
    "### Exercise 3 - refactor the following maximum calculation to find the answer with numpy."
   ]
  },
  {
   "cell_type": "code",
   "execution_count": 56,
   "id": "0d754867",
   "metadata": {},
   "outputs": [],
   "source": [
    "max_of_b = max(b[0]) if max(b[0]) >= max(b[1]) else max(b[1])"
   ]
  },
  {
   "cell_type": "code",
   "execution_count": 57,
   "id": "94964a6e",
   "metadata": {},
   "outputs": [
    {
     "data": {
      "text/plain": [
       "8"
      ]
     },
     "execution_count": 57,
     "metadata": {},
     "output_type": "execute_result"
    }
   ],
   "source": [
    "max_of_b"
   ]
  },
  {
   "cell_type": "code",
   "execution_count": 58,
   "id": "ff7744c9",
   "metadata": {},
   "outputs": [
    {
     "data": {
      "text/plain": [
       "8"
      ]
     },
     "execution_count": 58,
     "metadata": {},
     "output_type": "execute_result"
    }
   ],
   "source": [
    "b2.max()"
   ]
  },
  {
   "cell_type": "markdown",
   "id": "362b55fb",
   "metadata": {},
   "source": [
    "### # Exercise 4 - refactor the following using numpy to find the mean of b"
   ]
  },
  {
   "cell_type": "code",
   "execution_count": 59,
   "id": "3c8ec18d",
   "metadata": {},
   "outputs": [],
   "source": [
    "mean_of_b = (sum(b[0]) + sum(b[1])) / (len(b[0]) + len(b[1]))"
   ]
  },
  {
   "cell_type": "code",
   "execution_count": 60,
   "id": "652cc886",
   "metadata": {},
   "outputs": [
    {
     "data": {
      "text/plain": [
       "5.5"
      ]
     },
     "execution_count": 60,
     "metadata": {},
     "output_type": "execute_result"
    }
   ],
   "source": [
    "mean_of_b"
   ]
  },
  {
   "cell_type": "code",
   "execution_count": 61,
   "id": "9cb105a6",
   "metadata": {},
   "outputs": [
    {
     "data": {
      "text/plain": [
       "5.5"
      ]
     },
     "execution_count": 61,
     "metadata": {},
     "output_type": "execute_result"
    }
   ],
   "source": [
    "b2.mean()"
   ]
  },
  {
   "cell_type": "markdown",
   "id": "7be53ee8",
   "metadata": {},
   "source": [
    "### Exercise 5 - refactor the following to use numpy for calculating the product of all numbers multiplied together."
   ]
  },
  {
   "cell_type": "code",
   "execution_count": 62,
   "id": "fba678ad",
   "metadata": {},
   "outputs": [],
   "source": [
    "product_of_b = 1\n",
    "for row in b:\n",
    "    for number in row:\n",
    "        product_of_b *= number"
   ]
  },
  {
   "cell_type": "code",
   "execution_count": 63,
   "id": "fabe91b2",
   "metadata": {},
   "outputs": [
    {
     "data": {
      "text/plain": [
       "20160"
      ]
     },
     "execution_count": 63,
     "metadata": {},
     "output_type": "execute_result"
    }
   ],
   "source": [
    "product_of_b"
   ]
  },
  {
   "cell_type": "code",
   "execution_count": 65,
   "id": "1fc470e5",
   "metadata": {},
   "outputs": [
    {
     "data": {
      "text/plain": [
       "20160"
      ]
     },
     "execution_count": 65,
     "metadata": {},
     "output_type": "execute_result"
    }
   ],
   "source": [
    "b2.prod()"
   ]
  },
  {
   "cell_type": "code",
   "execution_count": 64,
   "id": "e7f6308b",
   "metadata": {},
   "outputs": [
    {
     "data": {
      "text/plain": [
       "20160"
      ]
     },
     "execution_count": 64,
     "metadata": {},
     "output_type": "execute_result"
    }
   ],
   "source": [
    "np.prod(b2)"
   ]
  },
  {
   "cell_type": "markdown",
   "id": "a32f005f",
   "metadata": {},
   "source": [
    "### Exercise 6 - refactor the following to use numpy to find the list of squares "
   ]
  },
  {
   "cell_type": "code",
   "execution_count": 66,
   "id": "16a37654",
   "metadata": {},
   "outputs": [],
   "source": [
    "squares_of_b = []\n",
    "for row in b:\n",
    "    for number in row:\n",
    "        squares_of_b.append(number**2)"
   ]
  },
  {
   "cell_type": "code",
   "execution_count": 67,
   "id": "a590423a",
   "metadata": {},
   "outputs": [
    {
     "data": {
      "text/plain": [
       "[9, 16, 25, 36, 49, 64]"
      ]
     },
     "execution_count": 67,
     "metadata": {},
     "output_type": "execute_result"
    }
   ],
   "source": [
    "squares_of_b"
   ]
  },
  {
   "cell_type": "code",
   "execution_count": 70,
   "id": "e8182b38",
   "metadata": {
    "scrolled": true
   },
   "outputs": [
    {
     "data": {
      "text/plain": [
       "array([[ 9, 16, 25],\n",
       "       [36, 49, 64]])"
      ]
     },
     "execution_count": 70,
     "metadata": {},
     "output_type": "execute_result"
    }
   ],
   "source": [
    "np.square(b2)"
   ]
  },
  {
   "cell_type": "code",
   "execution_count": 71,
   "id": "2a46899c",
   "metadata": {},
   "outputs": [
    {
     "data": {
      "text/plain": [
       "array([[ 9, 16, 25],\n",
       "       [36, 49, 64]])"
      ]
     },
     "execution_count": 71,
     "metadata": {},
     "output_type": "execute_result"
    }
   ],
   "source": [
    "b2 ** 2"
   ]
  },
  {
   "cell_type": "markdown",
   "id": "f0819003",
   "metadata": {},
   "source": [
    "### Exercise 7 - refactor using numpy to determine the odds_in_b"
   ]
  },
  {
   "cell_type": "code",
   "execution_count": 72,
   "id": "2adc829a",
   "metadata": {},
   "outputs": [],
   "source": [
    "odds_in_b = []\n",
    "for row in b:\n",
    "    for number in row:\n",
    "        if(number % 2 != 0):\n",
    "            odds_in_b.append(number)"
   ]
  },
  {
   "cell_type": "code",
   "execution_count": 73,
   "id": "3cd94d00",
   "metadata": {},
   "outputs": [
    {
     "data": {
      "text/plain": [
       "[3, 5, 7]"
      ]
     },
     "execution_count": 73,
     "metadata": {},
     "output_type": "execute_result"
    }
   ],
   "source": [
    "odds_in_b"
   ]
  },
  {
   "cell_type": "code",
   "execution_count": 74,
   "id": "396ec7d7",
   "metadata": {},
   "outputs": [
    {
     "data": {
      "text/plain": [
       "array([3, 5, 7])"
      ]
     },
     "execution_count": 74,
     "metadata": {},
     "output_type": "execute_result"
    }
   ],
   "source": [
    "b2[b2 % 2 != 0]"
   ]
  },
  {
   "cell_type": "markdown",
   "id": "0573f608",
   "metadata": {},
   "source": [
    "### Exercise 8 - refactor the following to use numpy to filter only the even numbers"
   ]
  },
  {
   "cell_type": "code",
   "execution_count": 75,
   "id": "e2e705e1",
   "metadata": {},
   "outputs": [],
   "source": [
    "evens_in_b = []\n",
    "for row in b:\n",
    "    for number in row:\n",
    "        if(number % 2 == 0):\n",
    "            evens_in_b.append(number)"
   ]
  },
  {
   "cell_type": "code",
   "execution_count": 76,
   "id": "7c337855",
   "metadata": {},
   "outputs": [
    {
     "data": {
      "text/plain": [
       "[4, 6, 8]"
      ]
     },
     "execution_count": 76,
     "metadata": {},
     "output_type": "execute_result"
    }
   ],
   "source": [
    "evens_in_b"
   ]
  },
  {
   "cell_type": "code",
   "execution_count": 77,
   "id": "5cc8981f",
   "metadata": {},
   "outputs": [
    {
     "data": {
      "text/plain": [
       "array([4, 6, 8])"
      ]
     },
     "execution_count": 77,
     "metadata": {},
     "output_type": "execute_result"
    }
   ],
   "source": [
    "b2[b2 % 2 == 0]"
   ]
  },
  {
   "cell_type": "markdown",
   "id": "9364f388",
   "metadata": {},
   "source": [
    "### Exercise 9 - print out the shape of the array b."
   ]
  },
  {
   "cell_type": "code",
   "execution_count": 78,
   "id": "034d169c",
   "metadata": {},
   "outputs": [
    {
     "data": {
      "text/plain": [
       "(2, 3)"
      ]
     },
     "execution_count": 78,
     "metadata": {},
     "output_type": "execute_result"
    }
   ],
   "source": [
    "b2.shape"
   ]
  },
  {
   "cell_type": "markdown",
   "id": "fb15848c",
   "metadata": {},
   "source": [
    "### Exercise 10 - transpose the array b."
   ]
  },
  {
   "cell_type": "code",
   "execution_count": 79,
   "id": "5aaf8565",
   "metadata": {
    "scrolled": true
   },
   "outputs": [
    {
     "data": {
      "text/plain": [
       "array([[3, 4, 5],\n",
       "       [6, 7, 8]])"
      ]
     },
     "execution_count": 79,
     "metadata": {},
     "output_type": "execute_result"
    }
   ],
   "source": [
    "b2"
   ]
  },
  {
   "cell_type": "code",
   "execution_count": 80,
   "id": "b0e6ad7b",
   "metadata": {},
   "outputs": [
    {
     "data": {
      "text/plain": [
       "array([[3, 6],\n",
       "       [4, 7],\n",
       "       [5, 8]])"
      ]
     },
     "execution_count": 80,
     "metadata": {},
     "output_type": "execute_result"
    }
   ],
   "source": [
    "b2.transpose()"
   ]
  },
  {
   "cell_type": "markdown",
   "id": "76c891c5",
   "metadata": {},
   "source": [
    "### Exercise 11 - reshape the array b to be a single list of 6 numbers. (1 x 6)"
   ]
  },
  {
   "cell_type": "code",
   "execution_count": 81,
   "id": "2297836e",
   "metadata": {},
   "outputs": [
    {
     "data": {
      "text/plain": [
       "array([[3, 4, 5, 6, 7, 8]])"
      ]
     },
     "execution_count": 81,
     "metadata": {},
     "output_type": "execute_result"
    }
   ],
   "source": [
    "b2.reshape(1,6)"
   ]
  },
  {
   "cell_type": "markdown",
   "id": "43ec1f44",
   "metadata": {},
   "source": [
    "### Exercise 12 - reshape the array b to be a list of 6 lists, each containing only 1 number (6 x 1)"
   ]
  },
  {
   "cell_type": "code",
   "execution_count": 82,
   "id": "09196dfd",
   "metadata": {},
   "outputs": [
    {
     "data": {
      "text/plain": [
       "array([[3],\n",
       "       [4],\n",
       "       [5],\n",
       "       [6],\n",
       "       [7],\n",
       "       [8]])"
      ]
     },
     "execution_count": 82,
     "metadata": {},
     "output_type": "execute_result"
    }
   ],
   "source": [
    "b2.reshape(6,1)"
   ]
  },
  {
   "cell_type": "markdown",
   "id": "d7be99c1",
   "metadata": {},
   "source": [
    "### Setup 3"
   ]
  },
  {
   "cell_type": "code",
   "execution_count": 84,
   "id": "b5276a1a",
   "metadata": {},
   "outputs": [],
   "source": [
    "c = [\n",
    "    [1, 2, 3],\n",
    "    [4, 5, 6],\n",
    "    [7, 8, 9]\n",
    "]"
   ]
  },
  {
   "cell_type": "markdown",
   "id": "18ccc573",
   "metadata": {},
   "source": [
    "### HINT, you'll first need to make sure that the \"c\" variable is a numpy array prior to using numpy array methods."
   ]
  },
  {
   "cell_type": "code",
   "execution_count": null,
   "id": "e6ec7a2d",
   "metadata": {},
   "outputs": [],
   "source": [
    "c = np.array(c)"
   ]
  },
  {
   "cell_type": "markdown",
   "id": "e5e805c4",
   "metadata": {},
   "source": [
    "### Exercise 1 - Find the min, max, sum, and product of c."
   ]
  },
  {
   "cell_type": "code",
   "execution_count": 85,
   "id": "ffba972f",
   "metadata": {},
   "outputs": [
    {
     "data": {
      "text/plain": [
       "(1, 9, 45, 362880)"
      ]
     },
     "execution_count": 85,
     "metadata": {},
     "output_type": "execute_result"
    }
   ],
   "source": [
    "c.min(), c.max(), c.sum(), c.prod()"
   ]
  },
  {
   "cell_type": "markdown",
   "id": "4eeedcc6",
   "metadata": {},
   "source": [
    "### Exercise 2 - Determine the standard deviation of c."
   ]
  },
  {
   "cell_type": "code",
   "execution_count": 86,
   "id": "66a47f9a",
   "metadata": {},
   "outputs": [
    {
     "data": {
      "text/plain": [
       "2.581988897471611"
      ]
     },
     "execution_count": 86,
     "metadata": {},
     "output_type": "execute_result"
    }
   ],
   "source": [
    "c.std()"
   ]
  },
  {
   "cell_type": "markdown",
   "id": "d11a0d3e",
   "metadata": {},
   "source": [
    "### Exercise 3 - Determine the variance of c."
   ]
  },
  {
   "cell_type": "code",
   "execution_count": 87,
   "id": "0e3cd582",
   "metadata": {},
   "outputs": [
    {
     "data": {
      "text/plain": [
       "6.666666666666667"
      ]
     },
     "execution_count": 87,
     "metadata": {},
     "output_type": "execute_result"
    }
   ],
   "source": [
    "c.var()"
   ]
  },
  {
   "cell_type": "markdown",
   "id": "72b6f404",
   "metadata": {},
   "source": [
    "### Exercise 4 - Print out the shape of the array c"
   ]
  },
  {
   "cell_type": "code",
   "execution_count": 88,
   "id": "100a250c",
   "metadata": {},
   "outputs": [
    {
     "data": {
      "text/plain": [
       "(3, 3)"
      ]
     },
     "execution_count": 88,
     "metadata": {},
     "output_type": "execute_result"
    }
   ],
   "source": [
    "c.shape"
   ]
  },
  {
   "cell_type": "markdown",
   "id": "84d58545",
   "metadata": {},
   "source": [
    "### Exercise 5 - Transpose c and print out transposed result."
   ]
  },
  {
   "cell_type": "code",
   "execution_count": 89,
   "id": "82ad33e9",
   "metadata": {},
   "outputs": [
    {
     "data": {
      "text/plain": [
       "array([[1, 4, 7],\n",
       "       [2, 5, 8],\n",
       "       [3, 6, 9]])"
      ]
     },
     "execution_count": 89,
     "metadata": {},
     "output_type": "execute_result"
    }
   ],
   "source": [
    "c.transpose()"
   ]
  },
  {
   "cell_type": "markdown",
   "id": "806689b5",
   "metadata": {},
   "source": [
    "### Exercise 6 - Get the dot product of the array c with c."
   ]
  },
  {
   "cell_type": "code",
   "execution_count": 90,
   "id": "017ad1d2",
   "metadata": {},
   "outputs": [
    {
     "data": {
      "text/plain": [
       "array([[ 30,  36,  42],\n",
       "       [ 66,  81,  96],\n",
       "       [102, 126, 150]])"
      ]
     },
     "execution_count": 90,
     "metadata": {},
     "output_type": "execute_result"
    }
   ],
   "source": [
    "np.dot(c, c)"
   ]
  },
  {
   "cell_type": "markdown",
   "id": "dbc46925",
   "metadata": {},
   "source": [
    "### Exercise 7 - Write the code necessary to sum up the result of c times c transposed. Answer should be 261"
   ]
  },
  {
   "cell_type": "code",
   "execution_count": 91,
   "id": "f0748e18",
   "metadata": {},
   "outputs": [
    {
     "data": {
      "text/plain": [
       "261"
      ]
     },
     "execution_count": 91,
     "metadata": {},
     "output_type": "execute_result"
    }
   ],
   "source": [
    "np.sum(c * c.transpose())"
   ]
  },
  {
   "cell_type": "markdown",
   "id": "fc6f99a9",
   "metadata": {},
   "source": [
    "### Exercise 8 - Write the code necessary to determine the product of c times c transposed. Answer should be 131681894400."
   ]
  },
  {
   "cell_type": "code",
   "execution_count": 92,
   "id": "e9191836",
   "metadata": {},
   "outputs": [
    {
     "data": {
      "text/plain": [
       "131681894400"
      ]
     },
     "execution_count": 92,
     "metadata": {},
     "output_type": "execute_result"
    }
   ],
   "source": [
    "np.prod(c * c.transpose())"
   ]
  },
  {
   "cell_type": "markdown",
   "id": "e91f9b2c",
   "metadata": {},
   "source": [
    "### Setup 4"
   ]
  },
  {
   "cell_type": "code",
   "execution_count": 93,
   "id": "d5db7cd7",
   "metadata": {},
   "outputs": [],
   "source": [
    "d = [\n",
    "    [90, 30, 45, 0, 120, 180],\n",
    "    [45, -90, -30, 270, 90, 0],\n",
    "    [60, 45, -45, 90, -45, 180]\n",
    "]\n",
    "\n",
    "d = np.array(d)"
   ]
  },
  {
   "cell_type": "markdown",
   "id": "48346e88",
   "metadata": {},
   "source": [
    "### Exercise 1 - Find the sine of all the numbers in d"
   ]
  },
  {
   "cell_type": "code",
   "execution_count": 95,
   "id": "9177bb8e",
   "metadata": {},
   "outputs": [
    {
     "data": {
      "text/plain": [
       "array([[ 0.89399666, -0.98803162,  0.85090352,  0.        ,  0.58061118,\n",
       "        -0.80115264],\n",
       "       [ 0.85090352, -0.89399666,  0.98803162, -0.17604595,  0.89399666,\n",
       "         0.        ],\n",
       "       [-0.30481062,  0.85090352, -0.85090352,  0.89399666, -0.85090352,\n",
       "        -0.80115264]])"
      ]
     },
     "execution_count": 95,
     "metadata": {},
     "output_type": "execute_result"
    }
   ],
   "source": [
    "np.sin(d)"
   ]
  },
  {
   "cell_type": "markdown",
   "id": "47af7fca",
   "metadata": {},
   "source": [
    "### Exercise 2 - Find the cosine of all the numbers in d"
   ]
  },
  {
   "cell_type": "code",
   "execution_count": 96,
   "id": "509e985a",
   "metadata": {},
   "outputs": [
    {
     "data": {
      "text/plain": [
       "array([[-0.44807362,  0.15425145,  0.52532199,  1.        ,  0.81418097,\n",
       "        -0.59846007],\n",
       "       [ 0.52532199, -0.44807362,  0.15425145,  0.98438195, -0.44807362,\n",
       "         1.        ],\n",
       "       [-0.95241298,  0.52532199,  0.52532199, -0.44807362,  0.52532199,\n",
       "        -0.59846007]])"
      ]
     },
     "execution_count": 96,
     "metadata": {},
     "output_type": "execute_result"
    }
   ],
   "source": [
    "np.cos(d)"
   ]
  },
  {
   "cell_type": "markdown",
   "id": "0d3088f7",
   "metadata": {},
   "source": [
    "### Exercise 3 - Find the tangent of all the numbers in d"
   ]
  },
  {
   "cell_type": "code",
   "execution_count": 97,
   "id": "62adf7bc",
   "metadata": {},
   "outputs": [
    {
     "data": {
      "text/plain": [
       "array([[-1.99520041, -6.4053312 ,  1.61977519,  0.        ,  0.71312301,\n",
       "         1.33869021],\n",
       "       [ 1.61977519,  1.99520041,  6.4053312 , -0.17883906, -1.99520041,\n",
       "         0.        ],\n",
       "       [ 0.32004039,  1.61977519, -1.61977519, -1.99520041, -1.61977519,\n",
       "         1.33869021]])"
      ]
     },
     "execution_count": 97,
     "metadata": {},
     "output_type": "execute_result"
    }
   ],
   "source": [
    "np.tan(d)"
   ]
  },
  {
   "cell_type": "markdown",
   "id": "84079b1f",
   "metadata": {},
   "source": [
    "### Exercise 4 - Find all the negative numbers in d"
   ]
  },
  {
   "cell_type": "code",
   "execution_count": 98,
   "id": "7845ce6a",
   "metadata": {},
   "outputs": [
    {
     "data": {
      "text/plain": [
       "array([-90, -30, -45, -45])"
      ]
     },
     "execution_count": 98,
     "metadata": {},
     "output_type": "execute_result"
    }
   ],
   "source": [
    "d[d < 0]"
   ]
  },
  {
   "cell_type": "markdown",
   "id": "92ab8cc4",
   "metadata": {},
   "source": [
    "### Exercise 5 - Find all the positive numbers in d"
   ]
  },
  {
   "cell_type": "code",
   "execution_count": 99,
   "id": "95206755",
   "metadata": {},
   "outputs": [
    {
     "data": {
      "text/plain": [
       "array([ 90,  30,  45, 120, 180,  45, 270,  90,  60,  45,  90, 180])"
      ]
     },
     "execution_count": 99,
     "metadata": {},
     "output_type": "execute_result"
    }
   ],
   "source": [
    "d[d>0]"
   ]
  },
  {
   "cell_type": "markdown",
   "id": "570079c4",
   "metadata": {},
   "source": [
    "### Exercise 6 - Return an array of only the unique numbers in d."
   ]
  },
  {
   "cell_type": "code",
   "execution_count": 100,
   "id": "3b267adb",
   "metadata": {},
   "outputs": [
    {
     "data": {
      "text/plain": [
       "array([-90, -45, -30,   0,  30,  45,  60,  90, 120, 180, 270])"
      ]
     },
     "execution_count": 100,
     "metadata": {},
     "output_type": "execute_result"
    }
   ],
   "source": [
    "np.unique(d)"
   ]
  },
  {
   "cell_type": "markdown",
   "id": "20c38372",
   "metadata": {},
   "source": [
    "### Exercise 7 - Determine how many unique numbers there are in d."
   ]
  },
  {
   "cell_type": "code",
   "execution_count": 101,
   "id": "50e76b0c",
   "metadata": {},
   "outputs": [
    {
     "data": {
      "text/plain": [
       "11"
      ]
     },
     "execution_count": 101,
     "metadata": {},
     "output_type": "execute_result"
    }
   ],
   "source": [
    "len(np.unique(d))"
   ]
  },
  {
   "cell_type": "markdown",
   "id": "d661d83d",
   "metadata": {},
   "source": [
    "### Exercise 8 - Print out the shape of d."
   ]
  },
  {
   "cell_type": "code",
   "execution_count": 102,
   "id": "fb5b4a03",
   "metadata": {},
   "outputs": [
    {
     "data": {
      "text/plain": [
       "(3, 6)"
      ]
     },
     "execution_count": 102,
     "metadata": {},
     "output_type": "execute_result"
    }
   ],
   "source": [
    "d.shape"
   ]
  },
  {
   "cell_type": "markdown",
   "id": "59a7612b",
   "metadata": {},
   "source": [
    "### Exercise 9 - Transpose and then print out the shape of d."
   ]
  },
  {
   "cell_type": "code",
   "execution_count": 103,
   "id": "a0abb407",
   "metadata": {},
   "outputs": [
    {
     "data": {
      "text/plain": [
       "(6, 3)"
      ]
     },
     "execution_count": 103,
     "metadata": {},
     "output_type": "execute_result"
    }
   ],
   "source": [
    "d.transpose().shape"
   ]
  },
  {
   "cell_type": "markdown",
   "id": "1c5cdfcc",
   "metadata": {},
   "source": [
    "### Exercise 10 - Reshape d into an array of 9 x 2"
   ]
  },
  {
   "cell_type": "code",
   "execution_count": 105,
   "id": "2a9c6b3b",
   "metadata": {},
   "outputs": [
    {
     "data": {
      "text/plain": [
       "array([[ 90,  30],\n",
       "       [ 45,   0],\n",
       "       [120, 180],\n",
       "       [ 45, -90],\n",
       "       [-30, 270],\n",
       "       [ 90,   0],\n",
       "       [ 60,  45],\n",
       "       [-45,  90],\n",
       "       [-45, 180]])"
      ]
     },
     "execution_count": 105,
     "metadata": {},
     "output_type": "execute_result"
    }
   ],
   "source": [
    "np.reshape(d, (9,2))"
   ]
  },
  {
   "cell_type": "code",
   "execution_count": null,
   "id": "4f638ed3",
   "metadata": {},
   "outputs": [],
   "source": []
  }
 ],
 "metadata": {
  "kernelspec": {
   "display_name": "Python 3 (ipykernel)",
   "language": "python",
   "name": "python3"
  },
  "language_info": {
   "codemirror_mode": {
    "name": "ipython",
    "version": 3
   },
   "file_extension": ".py",
   "mimetype": "text/x-python",
   "name": "python",
   "nbconvert_exporter": "python",
   "pygments_lexer": "ipython3",
   "version": "3.9.12"
  }
 },
 "nbformat": 4,
 "nbformat_minor": 5
}
