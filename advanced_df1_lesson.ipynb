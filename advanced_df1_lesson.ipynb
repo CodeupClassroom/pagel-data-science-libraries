{
 "cells": [
  {
   "cell_type": "markdown",
   "id": "66955324",
   "metadata": {},
   "source": [
    "# Advanced Dataframes"
   ]
  },
  {
   "cell_type": "markdown",
   "id": "dd8262cd",
   "metadata": {},
   "source": [
    "What is advanced dataframes? \n",
    "- Part 1: how to create dataframes\n",
    "- Part 2: manipulate the dataframes\n",
    "- Part 3: transform the dataframes\n",
    "\n",
    "Why do we care? \n",
    "- Now that we understand more about what a dataframe is, these tools will allow us to wrangle our dataframes to get the data we need!"
   ]
  },
  {
   "cell_type": "markdown",
   "id": "bf7007a0",
   "metadata": {},
   "source": [
    "## Part 1 - Creating Dataframes\n",
    "- from lists\n",
    "- from dictionaries\n",
    "- from sql"
   ]
  },
  {
   "cell_type": "code",
   "execution_count": 1,
   "id": "e26e613d",
   "metadata": {},
   "outputs": [],
   "source": [
    "#standard imports\n",
    "import pandas as pd\n",
    "import numpy as np"
   ]
  },
  {
   "cell_type": "markdown",
   "id": "fae6f7a0",
   "metadata": {},
   "source": [
    "format: `pd.DataFrame(data)`"
   ]
  },
  {
   "cell_type": "markdown",
   "id": "1c9a4d6e",
   "metadata": {},
   "source": [
    "### From lists"
   ]
  },
  {
   "cell_type": "code",
   "execution_count": 2,
   "id": "a78cc14e",
   "metadata": {},
   "outputs": [
    {
     "data": {
      "text/plain": [
       "[1, 34, 23, -2]"
      ]
     },
     "execution_count": 2,
     "metadata": {},
     "output_type": "execute_result"
    }
   ],
   "source": [
    "#build a list\n",
    "ls = [1,34,23,-2]\n",
    "ls"
   ]
  },
  {
   "cell_type": "code",
   "execution_count": 3,
   "id": "bfad9140",
   "metadata": {},
   "outputs": [
    {
     "data": {
      "text/html": [
       "<div>\n",
       "<style scoped>\n",
       "    .dataframe tbody tr th:only-of-type {\n",
       "        vertical-align: middle;\n",
       "    }\n",
       "\n",
       "    .dataframe tbody tr th {\n",
       "        vertical-align: top;\n",
       "    }\n",
       "\n",
       "    .dataframe thead th {\n",
       "        text-align: right;\n",
       "    }\n",
       "</style>\n",
       "<table border=\"1\" class=\"dataframe\">\n",
       "  <thead>\n",
       "    <tr style=\"text-align: right;\">\n",
       "      <th></th>\n",
       "      <th>0</th>\n",
       "    </tr>\n",
       "  </thead>\n",
       "  <tbody>\n",
       "    <tr>\n",
       "      <th>0</th>\n",
       "      <td>1</td>\n",
       "    </tr>\n",
       "    <tr>\n",
       "      <th>1</th>\n",
       "      <td>34</td>\n",
       "    </tr>\n",
       "    <tr>\n",
       "      <th>2</th>\n",
       "      <td>23</td>\n",
       "    </tr>\n",
       "    <tr>\n",
       "      <th>3</th>\n",
       "      <td>-2</td>\n",
       "    </tr>\n",
       "  </tbody>\n",
       "</table>\n",
       "</div>"
      ],
      "text/plain": [
       "    0\n",
       "0   1\n",
       "1  34\n",
       "2  23\n",
       "3  -2"
      ]
     },
     "execution_count": 3,
     "metadata": {},
     "output_type": "execute_result"
    }
   ],
   "source": [
    "#pd.DataFrame(data)\n",
    "pd.DataFrame(ls) #each element of the list is a row"
   ]
  },
  {
   "cell_type": "code",
   "execution_count": 4,
   "id": "2c3df5a6",
   "metadata": {},
   "outputs": [
    {
     "data": {
      "text/plain": [
       "[[1, 2, 3], [2, 3, 45], [435, 12, 333]]"
      ]
     },
     "execution_count": 4,
     "metadata": {},
     "output_type": "execute_result"
    }
   ],
   "source": [
    "#build a matrix (list of lists)\n",
    "matrix = [[1,2,3],[2,3,45],[435,12,333]]\n",
    "matrix"
   ]
  },
  {
   "cell_type": "code",
   "execution_count": 5,
   "id": "a58c8e72",
   "metadata": {},
   "outputs": [
    {
     "data": {
      "text/html": [
       "<div>\n",
       "<style scoped>\n",
       "    .dataframe tbody tr th:only-of-type {\n",
       "        vertical-align: middle;\n",
       "    }\n",
       "\n",
       "    .dataframe tbody tr th {\n",
       "        vertical-align: top;\n",
       "    }\n",
       "\n",
       "    .dataframe thead th {\n",
       "        text-align: right;\n",
       "    }\n",
       "</style>\n",
       "<table border=\"1\" class=\"dataframe\">\n",
       "  <thead>\n",
       "    <tr style=\"text-align: right;\">\n",
       "      <th></th>\n",
       "      <th>0</th>\n",
       "      <th>1</th>\n",
       "      <th>2</th>\n",
       "    </tr>\n",
       "  </thead>\n",
       "  <tbody>\n",
       "    <tr>\n",
       "      <th>0</th>\n",
       "      <td>1</td>\n",
       "      <td>2</td>\n",
       "      <td>3</td>\n",
       "    </tr>\n",
       "    <tr>\n",
       "      <th>1</th>\n",
       "      <td>2</td>\n",
       "      <td>3</td>\n",
       "      <td>45</td>\n",
       "    </tr>\n",
       "    <tr>\n",
       "      <th>2</th>\n",
       "      <td>435</td>\n",
       "      <td>12</td>\n",
       "      <td>333</td>\n",
       "    </tr>\n",
       "  </tbody>\n",
       "</table>\n",
       "</div>"
      ],
      "text/plain": [
       "     0   1    2\n",
       "0    1   2    3\n",
       "1    2   3   45\n",
       "2  435  12  333"
      ]
     },
     "execution_count": 5,
     "metadata": {},
     "output_type": "execute_result"
    }
   ],
   "source": [
    "#pd.DataFrame(data)\n",
    "pd.DataFrame(matrix)"
   ]
  },
  {
   "cell_type": "code",
   "execution_count": 6,
   "id": "e4ad5abe",
   "metadata": {},
   "outputs": [
    {
     "data": {
      "text/plain": [
       "['first', 'second', 'third']"
      ]
     },
     "execution_count": 6,
     "metadata": {},
     "output_type": "execute_result"
    }
   ],
   "source": [
    "#define column names\n",
    "column_names = ['first','second', 'third'] #just a list\n",
    "column_names"
   ]
  },
  {
   "cell_type": "code",
   "execution_count": 7,
   "id": "f24a3f91",
   "metadata": {},
   "outputs": [
    {
     "data": {
      "text/html": [
       "<div>\n",
       "<style scoped>\n",
       "    .dataframe tbody tr th:only-of-type {\n",
       "        vertical-align: middle;\n",
       "    }\n",
       "\n",
       "    .dataframe tbody tr th {\n",
       "        vertical-align: top;\n",
       "    }\n",
       "\n",
       "    .dataframe thead th {\n",
       "        text-align: right;\n",
       "    }\n",
       "</style>\n",
       "<table border=\"1\" class=\"dataframe\">\n",
       "  <thead>\n",
       "    <tr style=\"text-align: right;\">\n",
       "      <th></th>\n",
       "      <th>first</th>\n",
       "      <th>second</th>\n",
       "      <th>third</th>\n",
       "    </tr>\n",
       "  </thead>\n",
       "  <tbody>\n",
       "    <tr>\n",
       "      <th>0</th>\n",
       "      <td>1</td>\n",
       "      <td>2</td>\n",
       "      <td>3</td>\n",
       "    </tr>\n",
       "    <tr>\n",
       "      <th>1</th>\n",
       "      <td>2</td>\n",
       "      <td>3</td>\n",
       "      <td>45</td>\n",
       "    </tr>\n",
       "    <tr>\n",
       "      <th>2</th>\n",
       "      <td>435</td>\n",
       "      <td>12</td>\n",
       "      <td>333</td>\n",
       "    </tr>\n",
       "  </tbody>\n",
       "</table>\n",
       "</div>"
      ],
      "text/plain": [
       "   first  second  third\n",
       "0      1       2      3\n",
       "1      2       3     45\n",
       "2    435      12    333"
      ]
     },
     "execution_count": 7,
     "metadata": {},
     "output_type": "execute_result"
    }
   ],
   "source": [
    "#definte column names when creating df\n",
    "pd.DataFrame(matrix, columns=column_names)"
   ]
  },
  {
   "cell_type": "code",
   "execution_count": 8,
   "id": "c66b39c6",
   "metadata": {},
   "outputs": [
    {
     "data": {
      "text/plain": [
       "array([[  1,   2,   3],\n",
       "       [  2,   3,  45],\n",
       "       [435,  12, 333]])"
      ]
     },
     "execution_count": 8,
     "metadata": {},
     "output_type": "execute_result"
    }
   ],
   "source": [
    "#make the matrix an array\n",
    "matrix_array = np.array(matrix)\n",
    "matrix_array"
   ]
  },
  {
   "cell_type": "code",
   "execution_count": 9,
   "id": "4a5275aa",
   "metadata": {},
   "outputs": [
    {
     "data": {
      "text/html": [
       "<div>\n",
       "<style scoped>\n",
       "    .dataframe tbody tr th:only-of-type {\n",
       "        vertical-align: middle;\n",
       "    }\n",
       "\n",
       "    .dataframe tbody tr th {\n",
       "        vertical-align: top;\n",
       "    }\n",
       "\n",
       "    .dataframe thead th {\n",
       "        text-align: right;\n",
       "    }\n",
       "</style>\n",
       "<table border=\"1\" class=\"dataframe\">\n",
       "  <thead>\n",
       "    <tr style=\"text-align: right;\">\n",
       "      <th></th>\n",
       "      <th>first</th>\n",
       "      <th>second</th>\n",
       "      <th>third</th>\n",
       "    </tr>\n",
       "  </thead>\n",
       "  <tbody>\n",
       "    <tr>\n",
       "      <th>0</th>\n",
       "      <td>1</td>\n",
       "      <td>2</td>\n",
       "      <td>3</td>\n",
       "    </tr>\n",
       "    <tr>\n",
       "      <th>1</th>\n",
       "      <td>2</td>\n",
       "      <td>3</td>\n",
       "      <td>45</td>\n",
       "    </tr>\n",
       "    <tr>\n",
       "      <th>2</th>\n",
       "      <td>435</td>\n",
       "      <td>12</td>\n",
       "      <td>333</td>\n",
       "    </tr>\n",
       "  </tbody>\n",
       "</table>\n",
       "</div>"
      ],
      "text/plain": [
       "   first  second  third\n",
       "0      1       2      3\n",
       "1      2       3     45\n",
       "2    435      12    333"
      ]
     },
     "execution_count": 9,
     "metadata": {},
     "output_type": "execute_result"
    }
   ],
   "source": [
    "#pd.DataFrame(data)\n",
    "pd.DataFrame(matrix_array, columns=column_names)"
   ]
  },
  {
   "cell_type": "markdown",
   "id": "d84ac401",
   "metadata": {},
   "source": [
    "### From dictionaries"
   ]
  },
  {
   "cell_type": "code",
   "execution_count": 10,
   "id": "72b32979",
   "metadata": {},
   "outputs": [
    {
     "data": {
      "text/plain": [
       "{'A': [1, 2, 3], 'B': [2, 234, 33]}"
      ]
     },
     "execution_count": 10,
     "metadata": {},
     "output_type": "execute_result"
    }
   ],
   "source": [
    "#create a dictionary with a list as keys\n",
    "#dictionary format: {key:value}\n",
    "new_dt = {'A':[1,2,3], 'B':[2,234,33]}\n",
    "new_dt"
   ]
  },
  {
   "cell_type": "code",
   "execution_count": 11,
   "id": "b4636b50",
   "metadata": {},
   "outputs": [
    {
     "data": {
      "text/html": [
       "<div>\n",
       "<style scoped>\n",
       "    .dataframe tbody tr th:only-of-type {\n",
       "        vertical-align: middle;\n",
       "    }\n",
       "\n",
       "    .dataframe tbody tr th {\n",
       "        vertical-align: top;\n",
       "    }\n",
       "\n",
       "    .dataframe thead th {\n",
       "        text-align: right;\n",
       "    }\n",
       "</style>\n",
       "<table border=\"1\" class=\"dataframe\">\n",
       "  <thead>\n",
       "    <tr style=\"text-align: right;\">\n",
       "      <th></th>\n",
       "      <th>A</th>\n",
       "      <th>B</th>\n",
       "    </tr>\n",
       "  </thead>\n",
       "  <tbody>\n",
       "    <tr>\n",
       "      <th>0</th>\n",
       "      <td>1</td>\n",
       "      <td>2</td>\n",
       "    </tr>\n",
       "    <tr>\n",
       "      <th>1</th>\n",
       "      <td>2</td>\n",
       "      <td>234</td>\n",
       "    </tr>\n",
       "    <tr>\n",
       "      <th>2</th>\n",
       "      <td>3</td>\n",
       "      <td>33</td>\n",
       "    </tr>\n",
       "  </tbody>\n",
       "</table>\n",
       "</div>"
      ],
      "text/plain": [
       "   A    B\n",
       "0  1    2\n",
       "1  2  234\n",
       "2  3   33"
      ]
     },
     "execution_count": 11,
     "metadata": {},
     "output_type": "execute_result"
    }
   ],
   "source": [
    "#create df!\n",
    "pd.DataFrame(new_dt)"
   ]
  },
  {
   "cell_type": "markdown",
   "id": "76c5e6db",
   "metadata": {},
   "source": [
    "#### make it more complex"
   ]
  },
  {
   "cell_type": "code",
   "execution_count": 12,
   "id": "88fcdab4",
   "metadata": {},
   "outputs": [],
   "source": [
    "import numpy as np\n",
    "\n",
    "#setting random seed\n",
    "np.random.seed(123)"
   ]
  },
  {
   "cell_type": "code",
   "execution_count": 13,
   "id": "153ccb3b",
   "metadata": {},
   "outputs": [],
   "source": [
    "# Create list of values for names column\n",
    "students = ['Sally', 'Jane', 'Suzie', 'Billy', 'Ada', 'John', 'Thomas',\n",
    "            'Marie', 'Albert', 'Richard', 'Isaac', 'Alan']\n",
    "# students"
   ]
  },
  {
   "cell_type": "code",
   "execution_count": 14,
   "id": "33525ff2",
   "metadata": {},
   "outputs": [],
   "source": [
    "# Randomly generate arrays of scores for each student for each subject.\n",
    "# Note that all the values need to have the same length here.\n",
    "math_grades = np.random.randint(low=60, high=100, size=len(students))\n",
    "\n",
    "english_grades = np.random.randint(low=60, high=100, size=len(students))\n",
    "\n",
    "reading_grades = np.random.randint(low=60, high=100, size=len(students))"
   ]
  },
  {
   "cell_type": "code",
   "execution_count": 30,
   "id": "693a002d",
   "metadata": {},
   "outputs": [
    {
     "data": {
      "text/plain": [
       "array([79, 64, 90, 67, 89, 98, 61, 72, 63, 67, 98, 84])"
      ]
     },
     "execution_count": 30,
     "metadata": {},
     "output_type": "execute_result"
    }
   ],
   "source": [
    "np.random.randint(high=100,low=60,size=len(students))"
   ]
  },
  {
   "cell_type": "code",
   "execution_count": 36,
   "id": "75b52d69",
   "metadata": {},
   "outputs": [
    {
     "data": {
      "text/plain": [
       "array([62, 88, 94, 98, 77, 79, 82, 93, 92, 69, 92, 92])"
      ]
     },
     "execution_count": 36,
     "metadata": {},
     "output_type": "execute_result"
    }
   ],
   "source": [
    "math_grades"
   ]
  },
  {
   "cell_type": "code",
   "execution_count": 16,
   "id": "59b163ac",
   "metadata": {},
   "outputs": [],
   "source": [
    "# Randomly generate if a student is in classroom A or classroom B\n",
    "classroom = np.random.choice(['A', 'B'], len(students))"
   ]
  },
  {
   "cell_type": "code",
   "execution_count": 47,
   "id": "b12bfb18",
   "metadata": {},
   "outputs": [
    {
     "data": {
      "text/plain": [
       "array(['B', 'B', 'B', 'B', 'A', 'B', 'B', 'B', 'B', 'A', 'A', 'B'],\n",
       "      dtype='<U1')"
      ]
     },
     "execution_count": 47,
     "metadata": {},
     "output_type": "execute_result"
    }
   ],
   "source": [
    "np.random.choice(['A','B'], len(students))"
   ]
  },
  {
   "cell_type": "code",
   "execution_count": 50,
   "id": "a8aaea5a",
   "metadata": {},
   "outputs": [],
   "source": [
    "#combine all values into a dictionary\n",
    "student_dict = {\n",
    "    'student':students,\n",
    "    'math':math_grades,\n",
    "    'english':english_grades,\n",
    "    'reading':reading_grades,\n",
    "    'room':classroom\n",
    "}\n"
   ]
  },
  {
   "cell_type": "code",
   "execution_count": 51,
   "id": "af12d6bc",
   "metadata": {},
   "outputs": [
    {
     "data": {
      "text/html": [
       "<div>\n",
       "<style scoped>\n",
       "    .dataframe tbody tr th:only-of-type {\n",
       "        vertical-align: middle;\n",
       "    }\n",
       "\n",
       "    .dataframe tbody tr th {\n",
       "        vertical-align: top;\n",
       "    }\n",
       "\n",
       "    .dataframe thead th {\n",
       "        text-align: right;\n",
       "    }\n",
       "</style>\n",
       "<table border=\"1\" class=\"dataframe\">\n",
       "  <thead>\n",
       "    <tr style=\"text-align: right;\">\n",
       "      <th></th>\n",
       "      <th>student</th>\n",
       "      <th>math</th>\n",
       "      <th>english</th>\n",
       "      <th>reading</th>\n",
       "      <th>room</th>\n",
       "    </tr>\n",
       "  </thead>\n",
       "  <tbody>\n",
       "    <tr>\n",
       "      <th>0</th>\n",
       "      <td>Sally</td>\n",
       "      <td>62</td>\n",
       "      <td>85</td>\n",
       "      <td>80</td>\n",
       "      <td>B</td>\n",
       "    </tr>\n",
       "    <tr>\n",
       "      <th>1</th>\n",
       "      <td>Jane</td>\n",
       "      <td>88</td>\n",
       "      <td>79</td>\n",
       "      <td>67</td>\n",
       "      <td>A</td>\n",
       "    </tr>\n",
       "    <tr>\n",
       "      <th>2</th>\n",
       "      <td>Suzie</td>\n",
       "      <td>94</td>\n",
       "      <td>74</td>\n",
       "      <td>95</td>\n",
       "      <td>A</td>\n",
       "    </tr>\n",
       "    <tr>\n",
       "      <th>3</th>\n",
       "      <td>Billy</td>\n",
       "      <td>98</td>\n",
       "      <td>96</td>\n",
       "      <td>88</td>\n",
       "      <td>A</td>\n",
       "    </tr>\n",
       "    <tr>\n",
       "      <th>4</th>\n",
       "      <td>Ada</td>\n",
       "      <td>77</td>\n",
       "      <td>92</td>\n",
       "      <td>98</td>\n",
       "      <td>A</td>\n",
       "    </tr>\n",
       "    <tr>\n",
       "      <th>5</th>\n",
       "      <td>John</td>\n",
       "      <td>79</td>\n",
       "      <td>76</td>\n",
       "      <td>93</td>\n",
       "      <td>B</td>\n",
       "    </tr>\n",
       "    <tr>\n",
       "      <th>6</th>\n",
       "      <td>Thomas</td>\n",
       "      <td>82</td>\n",
       "      <td>64</td>\n",
       "      <td>81</td>\n",
       "      <td>B</td>\n",
       "    </tr>\n",
       "    <tr>\n",
       "      <th>7</th>\n",
       "      <td>Marie</td>\n",
       "      <td>93</td>\n",
       "      <td>63</td>\n",
       "      <td>90</td>\n",
       "      <td>A</td>\n",
       "    </tr>\n",
       "    <tr>\n",
       "      <th>8</th>\n",
       "      <td>Albert</td>\n",
       "      <td>92</td>\n",
       "      <td>62</td>\n",
       "      <td>87</td>\n",
       "      <td>A</td>\n",
       "    </tr>\n",
       "    <tr>\n",
       "      <th>9</th>\n",
       "      <td>Richard</td>\n",
       "      <td>69</td>\n",
       "      <td>80</td>\n",
       "      <td>94</td>\n",
       "      <td>A</td>\n",
       "    </tr>\n",
       "    <tr>\n",
       "      <th>10</th>\n",
       "      <td>Isaac</td>\n",
       "      <td>92</td>\n",
       "      <td>99</td>\n",
       "      <td>93</td>\n",
       "      <td>A</td>\n",
       "    </tr>\n",
       "    <tr>\n",
       "      <th>11</th>\n",
       "      <td>Alan</td>\n",
       "      <td>92</td>\n",
       "      <td>62</td>\n",
       "      <td>72</td>\n",
       "      <td>B</td>\n",
       "    </tr>\n",
       "  </tbody>\n",
       "</table>\n",
       "</div>"
      ],
      "text/plain": [
       "    student  math  english  reading room\n",
       "0     Sally    62       85       80    B\n",
       "1      Jane    88       79       67    A\n",
       "2     Suzie    94       74       95    A\n",
       "3     Billy    98       96       88    A\n",
       "4       Ada    77       92       98    A\n",
       "5      John    79       76       93    B\n",
       "6    Thomas    82       64       81    B\n",
       "7     Marie    93       63       90    A\n",
       "8    Albert    92       62       87    A\n",
       "9   Richard    69       80       94    A\n",
       "10    Isaac    92       99       93    A\n",
       "11     Alan    92       62       72    B"
      ]
     },
     "execution_count": 51,
     "metadata": {},
     "output_type": "execute_result"
    }
   ],
   "source": [
    "#create df! \n",
    "pd.DataFrame(student_dict)"
   ]
  },
  {
   "cell_type": "markdown",
   "id": "d07e78bb",
   "metadata": {},
   "source": [
    "### From SQL"
   ]
  },
  {
   "cell_type": "markdown",
   "id": "d24d6296",
   "metadata": {},
   "source": [
    "We can connect to sql to create a dataframe!! yay!"
   ]
  },
  {
   "cell_type": "markdown",
   "id": "77e7951f",
   "metadata": {},
   "source": [
    "To do this we will use a driver to connect the database to our python code using pymysql driver packages"
   ]
  },
  {
   "cell_type": "markdown",
   "id": "9fd48e50",
   "metadata": {},
   "source": [
    "<div class=\"alert alert-block alert-info\">\n",
    "    Do this in the command line\n",
    "</div>"
   ]
  },
  {
   "cell_type": "markdown",
   "id": "9ff233b8",
   "metadata": {},
   "source": [
    "`python -m pip install pymysql`"
   ]
  },
  {
   "cell_type": "markdown",
   "id": "2e4f2e13",
   "metadata": {},
   "source": [
    "Now that this is installed, we will create a **CONNECTION STRING**"
   ]
  },
  {
   "cell_type": "markdown",
   "id": "107e8e6a",
   "metadata": {},
   "source": [
    "This is a what a **CONNECTION STRING** looks like: "
   ]
  },
  {
   "cell_type": "markdown",
   "id": "102ee04e",
   "metadata": {},
   "source": [
    "`[protocol]://[user]:[password]@[host]/[database_name]`"
   ]
  },
  {
   "cell_type": "markdown",
   "id": "b565ddb7",
   "metadata": {},
   "source": [
    "Example:"
   ]
  },
  {
   "cell_type": "markdown",
   "id": "8ed5a973",
   "metadata": {},
   "source": [
    "- protocol = 'mysql+pymysql'\n",
    "- user = 'codeup'\n",
    "- password = 'p@assw0rd'\n",
    "- host = '123.123.123.123'\n",
    "- database_name = 'some_db'"
   ]
  },
  {
   "cell_type": "code",
   "execution_count": 52,
   "id": "bfeb9cac",
   "metadata": {},
   "outputs": [
    {
     "data": {
      "text/plain": [
       "'mysql+pymysql://codeup:p@assw0rd@123.123.123.123/some_db'"
      ]
     },
     "execution_count": 52,
     "metadata": {},
     "output_type": "execute_result"
    }
   ],
   "source": [
    "#example\n",
    "url = 'mysql+pymysql://codeup:p@assw0rd@123.123.123.123/some_db'\n",
    "url"
   ]
  },
  {
   "cell_type": "markdown",
   "id": "0950fa4b",
   "metadata": {},
   "source": [
    "- This **CONNECTION STRING** is unique to this example user\n",
    "- You will each make a unique **CONNECTION STRING** with your credentials"
   ]
  },
  {
   "cell_type": "markdown",
   "id": "5b1a6ec3",
   "metadata": {},
   "source": [
    "<div class=\"alert alert-block alert-warning\">\n",
    "    Should you type your username and password in your .py or .ipynb?\n",
    "</div>"
   ]
  },
  {
   "cell_type": "markdown",
   "id": "ca5b1736",
   "metadata": {},
   "source": [
    "answer: \n",
    "\n",
    "<div class=\"alert alert-block alert-danger\">\n",
    "    NO! \n",
    "</div>"
   ]
  },
  {
   "cell_type": "markdown",
   "id": "c912d9cd",
   "metadata": {},
   "source": [
    "# Q: Why not?"
   ]
  },
  {
   "cell_type": "markdown",
   "id": "29f425e8",
   "metadata": {},
   "source": [
    "How to avoid this? "
   ]
  },
  {
   "cell_type": "markdown",
   "id": "c0f6020b",
   "metadata": {},
   "source": [
    "1. Create a separate file called `env.py`\n",
    "2. Enter in your credentials\n",
    "3. Put your env.py in the same folder as your working file\n",
    "4. Import your env\n",
    "5. Create your connection string from imported variables"
   ]
  },
  {
   "cell_type": "markdown",
   "id": "3a99ca11",
   "metadata": {},
   "source": [
    "<div class=\"alert alert-block alert-warning\">\n",
    "    Should you push your env.py file to github?\n",
    "</div>"
   ]
  },
  {
   "cell_type": "markdown",
   "id": "3e57b7c1",
   "metadata": {},
   "source": [
    "answer: \n",
    "<div class=\"alert alert-block alert-danger\">\n",
    "     NO! \n",
    "</div>"
   ]
  },
  {
   "cell_type": "markdown",
   "id": "7d992791",
   "metadata": {},
   "source": [
    "# Q: Why not? \n"
   ]
  },
  {
   "cell_type": "markdown",
   "id": "17cb1d4a",
   "metadata": {},
   "source": [
    "A: cause it has our username and password, so we need to add our env.py to our .gitignore"
   ]
  },
  {
   "cell_type": "code",
   "execution_count": 53,
   "id": "43442da1",
   "metadata": {},
   "outputs": [],
   "source": [
    "#get my credentials \n",
    "import env"
   ]
  },
  {
   "cell_type": "code",
   "execution_count": 54,
   "id": "3df81afb",
   "metadata": {},
   "outputs": [
    {
     "data": {
      "text/plain": [
       "'data.codeup.com'"
      ]
     },
     "execution_count": 54,
     "metadata": {},
     "output_type": "execute_result"
    }
   ],
   "source": [
    "#pull in the hostname\n",
    "env.host"
   ]
  },
  {
   "cell_type": "code",
   "execution_count": 59,
   "id": "b48d17ae",
   "metadata": {},
   "outputs": [],
   "source": [
    "#pull in the username\n",
    "# env.user"
   ]
  },
  {
   "cell_type": "code",
   "execution_count": 60,
   "id": "91f7cdcb",
   "metadata": {},
   "outputs": [],
   "source": [
    "#pull in the password\n",
    "# env.password"
   ]
  },
  {
   "cell_type": "markdown",
   "id": "d6b65b9c",
   "metadata": {},
   "source": [
    "<div class=\"alert alert-block alert-warning\">\n",
    "    Should you leave your username and password printed out on your .ipynb?\n",
    "</div>"
   ]
  },
  {
   "cell_type": "markdown",
   "id": "e6227d46",
   "metadata": {},
   "source": [
    "answer:\n",
    "\n",
    "<div class=\"alert alert-block alert-danger\">\n",
    "    NO! \n",
    "</div>"
   ]
  },
  {
   "cell_type": "markdown",
   "id": "5e899ec6",
   "metadata": {},
   "source": [
    "# Q: Why not? "
   ]
  },
  {
   "cell_type": "markdown",
   "id": "9e840fcf",
   "metadata": {},
   "source": [
    "A: cause then they are still printed out on my notebook file"
   ]
  },
  {
   "cell_type": "markdown",
   "id": "82827aaa",
   "metadata": {},
   "source": [
    "lets create our **CONNECTION STRING** saved into a variable called url"
   ]
  },
  {
   "cell_type": "code",
   "execution_count": 72,
   "id": "d4430f3e",
   "metadata": {},
   "outputs": [],
   "source": [
    "import env"
   ]
  },
  {
   "cell_type": "code",
   "execution_count": 73,
   "id": "de458224",
   "metadata": {},
   "outputs": [],
   "source": [
    "#create connection string\n",
    "url = f'mysql+pymysql://{env.user}:{env.password}@{env.host}/some_db'"
   ]
  },
  {
   "cell_type": "code",
   "execution_count": 74,
   "id": "79f65cb2",
   "metadata": {},
   "outputs": [],
   "source": [
    "from env import user, password, host"
   ]
  },
  {
   "cell_type": "code",
   "execution_count": 76,
   "id": "daecc3f6",
   "metadata": {},
   "outputs": [],
   "source": [
    "url = f'mysql+pymysql://{user}:{password}@{host}/some_db'"
   ]
  },
  {
   "cell_type": "markdown",
   "id": "96988f13",
   "metadata": {},
   "source": [
    "<div class=\"alert alert-block alert-warning\">\n",
    "    Should you print out on your connection string?\n",
    "</div>"
   ]
  },
  {
   "cell_type": "markdown",
   "id": "ffdd1e2c",
   "metadata": {},
   "source": [
    "answer:\n",
    "\n",
    "<div class=\"alert alert-block alert-danger\">\n",
    "    NO! \n",
    "</div>"
   ]
  },
  {
   "cell_type": "markdown",
   "id": "35d9582d",
   "metadata": {},
   "source": [
    "# Q: Why not? "
   ]
  },
  {
   "cell_type": "markdown",
   "id": "304f89f0",
   "metadata": {},
   "source": [
    "Now that we have created our **CONNECTION STRING**, we can connect to SQL"
   ]
  },
  {
   "cell_type": "markdown",
   "id": "ed616657",
   "metadata": {},
   "source": [
    "#### Let's connect to the employees database and pull the first 5 rows"
   ]
  },
  {
   "cell_type": "markdown",
   "id": "5e2354cc",
   "metadata": {},
   "source": [
    "format: `pd.read_sql('literal sql syntax to pull query', connection_string)`"
   ]
  },
  {
   "cell_type": "code",
   "execution_count": 78,
   "id": "4a696ada",
   "metadata": {},
   "outputs": [],
   "source": [
    "# url"
   ]
  },
  {
   "cell_type": "markdown",
   "id": "c604ae98",
   "metadata": {},
   "source": [
    "Q: What do you notice about our current connection string?"
   ]
  },
  {
   "cell_type": "code",
   "execution_count": 82,
   "id": "4663d49c",
   "metadata": {},
   "outputs": [],
   "source": [
    "#url\n",
    "url = f'mysql+pymysql://{user}:{password}@{host}/employees'"
   ]
  },
  {
   "cell_type": "code",
   "execution_count": 94,
   "id": "e9c74752",
   "metadata": {},
   "outputs": [
    {
     "data": {
      "text/html": [
       "<div>\n",
       "<style scoped>\n",
       "    .dataframe tbody tr th:only-of-type {\n",
       "        vertical-align: middle;\n",
       "    }\n",
       "\n",
       "    .dataframe tbody tr th {\n",
       "        vertical-align: top;\n",
       "    }\n",
       "\n",
       "    .dataframe thead th {\n",
       "        text-align: right;\n",
       "    }\n",
       "</style>\n",
       "<table border=\"1\" class=\"dataframe\">\n",
       "  <thead>\n",
       "    <tr style=\"text-align: right;\">\n",
       "      <th></th>\n",
       "      <th>emp_no</th>\n",
       "      <th>birth_date</th>\n",
       "      <th>first_name</th>\n",
       "      <th>last_name</th>\n",
       "      <th>gender</th>\n",
       "      <th>hire_date</th>\n",
       "    </tr>\n",
       "  </thead>\n",
       "  <tbody>\n",
       "    <tr>\n",
       "      <th>0</th>\n",
       "      <td>10001</td>\n",
       "      <td>1953-09-02</td>\n",
       "      <td>Georgi</td>\n",
       "      <td>Facello</td>\n",
       "      <td>M</td>\n",
       "      <td>1986-06-26</td>\n",
       "    </tr>\n",
       "    <tr>\n",
       "      <th>1</th>\n",
       "      <td>10002</td>\n",
       "      <td>1964-06-02</td>\n",
       "      <td>Bezalel</td>\n",
       "      <td>Simmel</td>\n",
       "      <td>F</td>\n",
       "      <td>1985-11-21</td>\n",
       "    </tr>\n",
       "    <tr>\n",
       "      <th>2</th>\n",
       "      <td>10003</td>\n",
       "      <td>1959-12-03</td>\n",
       "      <td>Parto</td>\n",
       "      <td>Bamford</td>\n",
       "      <td>M</td>\n",
       "      <td>1986-08-28</td>\n",
       "    </tr>\n",
       "    <tr>\n",
       "      <th>3</th>\n",
       "      <td>10004</td>\n",
       "      <td>1954-05-01</td>\n",
       "      <td>Chirstian</td>\n",
       "      <td>Koblick</td>\n",
       "      <td>M</td>\n",
       "      <td>1986-12-01</td>\n",
       "    </tr>\n",
       "    <tr>\n",
       "      <th>4</th>\n",
       "      <td>10005</td>\n",
       "      <td>1955-01-21</td>\n",
       "      <td>Kyoichi</td>\n",
       "      <td>Maliniak</td>\n",
       "      <td>M</td>\n",
       "      <td>1989-09-12</td>\n",
       "    </tr>\n",
       "    <tr>\n",
       "      <th>...</th>\n",
       "      <td>...</td>\n",
       "      <td>...</td>\n",
       "      <td>...</td>\n",
       "      <td>...</td>\n",
       "      <td>...</td>\n",
       "      <td>...</td>\n",
       "    </tr>\n",
       "    <tr>\n",
       "      <th>300019</th>\n",
       "      <td>499995</td>\n",
       "      <td>1958-09-24</td>\n",
       "      <td>Dekang</td>\n",
       "      <td>Lichtner</td>\n",
       "      <td>F</td>\n",
       "      <td>1993-01-12</td>\n",
       "    </tr>\n",
       "    <tr>\n",
       "      <th>300020</th>\n",
       "      <td>499996</td>\n",
       "      <td>1953-03-07</td>\n",
       "      <td>Zito</td>\n",
       "      <td>Baaz</td>\n",
       "      <td>M</td>\n",
       "      <td>1990-09-27</td>\n",
       "    </tr>\n",
       "    <tr>\n",
       "      <th>300021</th>\n",
       "      <td>499997</td>\n",
       "      <td>1961-08-03</td>\n",
       "      <td>Berhard</td>\n",
       "      <td>Lenart</td>\n",
       "      <td>M</td>\n",
       "      <td>1986-04-21</td>\n",
       "    </tr>\n",
       "    <tr>\n",
       "      <th>300022</th>\n",
       "      <td>499998</td>\n",
       "      <td>1956-09-05</td>\n",
       "      <td>Patricia</td>\n",
       "      <td>Breugel</td>\n",
       "      <td>M</td>\n",
       "      <td>1993-10-13</td>\n",
       "    </tr>\n",
       "    <tr>\n",
       "      <th>300023</th>\n",
       "      <td>499999</td>\n",
       "      <td>1958-05-01</td>\n",
       "      <td>Sachin</td>\n",
       "      <td>Tsukuda</td>\n",
       "      <td>M</td>\n",
       "      <td>1997-11-30</td>\n",
       "    </tr>\n",
       "  </tbody>\n",
       "</table>\n",
       "<p>300024 rows × 6 columns</p>\n",
       "</div>"
      ],
      "text/plain": [
       "        emp_no  birth_date first_name last_name gender   hire_date\n",
       "0        10001  1953-09-02     Georgi   Facello      M  1986-06-26\n",
       "1        10002  1964-06-02    Bezalel    Simmel      F  1985-11-21\n",
       "2        10003  1959-12-03      Parto   Bamford      M  1986-08-28\n",
       "3        10004  1954-05-01  Chirstian   Koblick      M  1986-12-01\n",
       "4        10005  1955-01-21    Kyoichi  Maliniak      M  1989-09-12\n",
       "...        ...         ...        ...       ...    ...         ...\n",
       "300019  499995  1958-09-24     Dekang  Lichtner      F  1993-01-12\n",
       "300020  499996  1953-03-07       Zito      Baaz      M  1990-09-27\n",
       "300021  499997  1961-08-03    Berhard    Lenart      M  1986-04-21\n",
       "300022  499998  1956-09-05   Patricia   Breugel      M  1993-10-13\n",
       "300023  499999  1958-05-01     Sachin   Tsukuda      M  1997-11-30\n",
       "\n",
       "[300024 rows x 6 columns]"
      ]
     },
     "execution_count": 94,
     "metadata": {},
     "output_type": "execute_result"
    }
   ],
   "source": [
    "#connect to sql and pull query into df\n",
    "pd.read_sql('select * from employees', url)"
   ]
  },
  {
   "cell_type": "markdown",
   "id": "a8b53004",
   "metadata": {},
   "source": [
    "#### I like my sql querys formatted with line breaks"
   ]
  },
  {
   "cell_type": "code",
   "execution_count": 87,
   "id": "35da1c4a",
   "metadata": {},
   "outputs": [
    {
     "data": {
      "text/html": [
       "<div>\n",
       "<style scoped>\n",
       "    .dataframe tbody tr th:only-of-type {\n",
       "        vertical-align: middle;\n",
       "    }\n",
       "\n",
       "    .dataframe tbody tr th {\n",
       "        vertical-align: top;\n",
       "    }\n",
       "\n",
       "    .dataframe thead th {\n",
       "        text-align: right;\n",
       "    }\n",
       "</style>\n",
       "<table border=\"1\" class=\"dataframe\">\n",
       "  <thead>\n",
       "    <tr style=\"text-align: right;\">\n",
       "      <th></th>\n",
       "      <th>emp_no</th>\n",
       "      <th>birth_date</th>\n",
       "      <th>first_name</th>\n",
       "      <th>last_name</th>\n",
       "      <th>gender</th>\n",
       "      <th>hire_date</th>\n",
       "    </tr>\n",
       "  </thead>\n",
       "  <tbody>\n",
       "    <tr>\n",
       "      <th>0</th>\n",
       "      <td>10001</td>\n",
       "      <td>1953-09-02</td>\n",
       "      <td>Georgi</td>\n",
       "      <td>Facello</td>\n",
       "      <td>M</td>\n",
       "      <td>1986-06-26</td>\n",
       "    </tr>\n",
       "    <tr>\n",
       "      <th>1</th>\n",
       "      <td>10002</td>\n",
       "      <td>1964-06-02</td>\n",
       "      <td>Bezalel</td>\n",
       "      <td>Simmel</td>\n",
       "      <td>F</td>\n",
       "      <td>1985-11-21</td>\n",
       "    </tr>\n",
       "    <tr>\n",
       "      <th>2</th>\n",
       "      <td>10003</td>\n",
       "      <td>1959-12-03</td>\n",
       "      <td>Parto</td>\n",
       "      <td>Bamford</td>\n",
       "      <td>M</td>\n",
       "      <td>1986-08-28</td>\n",
       "    </tr>\n",
       "    <tr>\n",
       "      <th>3</th>\n",
       "      <td>10004</td>\n",
       "      <td>1954-05-01</td>\n",
       "      <td>Chirstian</td>\n",
       "      <td>Koblick</td>\n",
       "      <td>M</td>\n",
       "      <td>1986-12-01</td>\n",
       "    </tr>\n",
       "    <tr>\n",
       "      <th>4</th>\n",
       "      <td>10005</td>\n",
       "      <td>1955-01-21</td>\n",
       "      <td>Kyoichi</td>\n",
       "      <td>Maliniak</td>\n",
       "      <td>M</td>\n",
       "      <td>1989-09-12</td>\n",
       "    </tr>\n",
       "  </tbody>\n",
       "</table>\n",
       "</div>"
      ],
      "text/plain": [
       "   emp_no  birth_date first_name last_name gender   hire_date\n",
       "0   10001  1953-09-02     Georgi   Facello      M  1986-06-26\n",
       "1   10002  1964-06-02    Bezalel    Simmel      F  1985-11-21\n",
       "2   10003  1959-12-03      Parto   Bamford      M  1986-08-28\n",
       "3   10004  1954-05-01  Chirstian   Koblick      M  1986-12-01\n",
       "4   10005  1955-01-21    Kyoichi  Maliniak      M  1989-09-12"
      ]
     },
     "execution_count": 87,
     "metadata": {},
     "output_type": "execute_result"
    }
   ],
   "source": [
    "pd.read_sql('''\n",
    "    select *\n",
    "    from employees\n",
    "    limit 5\n",
    "    ''', url)"
   ]
  },
  {
   "cell_type": "markdown",
   "id": "efc162e0",
   "metadata": {},
   "source": [
    "#### Let's make a bigger query:"
   ]
  },
  {
   "cell_type": "markdown",
   "id": "9f7f32c4",
   "metadata": {},
   "source": [
    "- I want a dataframe with emp_no, first_name, last_name, and dept_name\n",
    "- I want it only for women and their current department\n",
    "- Only pull back the first 10 employees"
   ]
  },
  {
   "cell_type": "code",
   "execution_count": 92,
   "id": "3ff08a5c",
   "metadata": {},
   "outputs": [],
   "source": [
    "#query\n",
    "query = '''\n",
    "select emp_no, first_name, last_name, dept_name\n",
    "from employees\n",
    "\tjoin dept_emp\n",
    "\t\tusing (emp_no)\n",
    "\tjoin departments\n",
    "\t\tusing (dept_no)\n",
    "where gender = 'F'\n",
    "\tand to_date > now()\n",
    "limit 10\n",
    "'''"
   ]
  },
  {
   "cell_type": "code",
   "execution_count": 93,
   "id": "ef54c444",
   "metadata": {},
   "outputs": [
    {
     "data": {
      "text/html": [
       "<div>\n",
       "<style scoped>\n",
       "    .dataframe tbody tr th:only-of-type {\n",
       "        vertical-align: middle;\n",
       "    }\n",
       "\n",
       "    .dataframe tbody tr th {\n",
       "        vertical-align: top;\n",
       "    }\n",
       "\n",
       "    .dataframe thead th {\n",
       "        text-align: right;\n",
       "    }\n",
       "</style>\n",
       "<table border=\"1\" class=\"dataframe\">\n",
       "  <thead>\n",
       "    <tr style=\"text-align: right;\">\n",
       "      <th></th>\n",
       "      <th>emp_no</th>\n",
       "      <th>first_name</th>\n",
       "      <th>last_name</th>\n",
       "      <th>dept_name</th>\n",
       "    </tr>\n",
       "  </thead>\n",
       "  <tbody>\n",
       "    <tr>\n",
       "      <th>0</th>\n",
       "      <td>10049</td>\n",
       "      <td>Basil</td>\n",
       "      <td>Tramer</td>\n",
       "      <td>Customer Service</td>\n",
       "    </tr>\n",
       "    <tr>\n",
       "      <th>1</th>\n",
       "      <td>10088</td>\n",
       "      <td>Jungsoon</td>\n",
       "      <td>Syrzycki</td>\n",
       "      <td>Customer Service</td>\n",
       "    </tr>\n",
       "    <tr>\n",
       "      <th>2</th>\n",
       "      <td>10112</td>\n",
       "      <td>Yuichiro</td>\n",
       "      <td>Swick</td>\n",
       "      <td>Customer Service</td>\n",
       "    </tr>\n",
       "    <tr>\n",
       "      <th>3</th>\n",
       "      <td>10128</td>\n",
       "      <td>Babette</td>\n",
       "      <td>Lamba</td>\n",
       "      <td>Customer Service</td>\n",
       "    </tr>\n",
       "    <tr>\n",
       "      <th>4</th>\n",
       "      <td>10154</td>\n",
       "      <td>Abdulah</td>\n",
       "      <td>Thibadeau</td>\n",
       "      <td>Customer Service</td>\n",
       "    </tr>\n",
       "    <tr>\n",
       "      <th>5</th>\n",
       "      <td>10176</td>\n",
       "      <td>Brendon</td>\n",
       "      <td>Lenart</td>\n",
       "      <td>Customer Service</td>\n",
       "    </tr>\n",
       "    <tr>\n",
       "      <th>6</th>\n",
       "      <td>10225</td>\n",
       "      <td>Kellie</td>\n",
       "      <td>Chinen</td>\n",
       "      <td>Customer Service</td>\n",
       "    </tr>\n",
       "    <tr>\n",
       "      <th>7</th>\n",
       "      <td>10231</td>\n",
       "      <td>Shaowen</td>\n",
       "      <td>Desikan</td>\n",
       "      <td>Customer Service</td>\n",
       "    </tr>\n",
       "    <tr>\n",
       "      <th>8</th>\n",
       "      <td>10279</td>\n",
       "      <td>Barton</td>\n",
       "      <td>Jumpertz</td>\n",
       "      <td>Customer Service</td>\n",
       "    </tr>\n",
       "    <tr>\n",
       "      <th>9</th>\n",
       "      <td>10335</td>\n",
       "      <td>Toshimori</td>\n",
       "      <td>Bahi</td>\n",
       "      <td>Customer Service</td>\n",
       "    </tr>\n",
       "  </tbody>\n",
       "</table>\n",
       "</div>"
      ],
      "text/plain": [
       "   emp_no first_name  last_name         dept_name\n",
       "0   10049      Basil     Tramer  Customer Service\n",
       "1   10088   Jungsoon   Syrzycki  Customer Service\n",
       "2   10112   Yuichiro      Swick  Customer Service\n",
       "3   10128    Babette      Lamba  Customer Service\n",
       "4   10154    Abdulah  Thibadeau  Customer Service\n",
       "5   10176    Brendon     Lenart  Customer Service\n",
       "6   10225     Kellie     Chinen  Customer Service\n",
       "7   10231    Shaowen    Desikan  Customer Service\n",
       "8   10279     Barton   Jumpertz  Customer Service\n",
       "9   10335  Toshimori       Bahi  Customer Service"
      ]
     },
     "execution_count": 93,
     "metadata": {},
     "output_type": "execute_result"
    }
   ],
   "source": [
    "#connect to sql and pull query into df\n",
    "pd.read_sql(query, url)"
   ]
  },
  {
   "cell_type": "markdown",
   "id": "ceea894f",
   "metadata": {},
   "source": [
    "# Don't push your passwords!"
   ]
  },
  {
   "cell_type": "markdown",
   "id": "fdfdef64",
   "metadata": {},
   "source": [
    "Note: \n",
    "- host = 'data.codeup.com'\n",
    "- your personal username and password are saved in the google classroom under cloud credentials"
   ]
  },
  {
   "cell_type": "code",
   "execution_count": null,
   "id": "e507d053",
   "metadata": {},
   "outputs": [],
   "source": []
  },
  {
   "cell_type": "code",
   "execution_count": null,
   "id": "b3a8b0ce",
   "metadata": {},
   "outputs": [],
   "source": []
  }
 ],
 "metadata": {
  "kernelspec": {
   "display_name": "Python 3 (ipykernel)",
   "language": "python",
   "name": "python3"
  },
  "language_info": {
   "codemirror_mode": {
    "name": "ipython",
    "version": 3
   },
   "file_extension": ".py",
   "mimetype": "text/x-python",
   "name": "python",
   "nbconvert_exporter": "python",
   "pygments_lexer": "ipython3",
   "version": "3.9.12"
  }
 },
 "nbformat": 4,
 "nbformat_minor": 5
}
