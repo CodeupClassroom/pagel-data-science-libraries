{
 "cells": [
  {
   "cell_type": "markdown",
   "id": "66955324",
   "metadata": {},
   "source": [
    "# Advanced Dataframes"
   ]
  },
  {
   "cell_type": "markdown",
   "id": "dd8262cd",
   "metadata": {},
   "source": [
    "What is advanced dataframes? \n",
    "- Part 1: how to create dataframes\n",
    "- Part 2: manipulate the dataframes\n",
    "- Part 3: transform the dataframes\n",
    "\n",
    "Why do we care? \n",
    "- Now that we understand more about what a dataframe is, these tools will allow us to wrangle our dataframes to get the data we need!"
   ]
  },
  {
   "cell_type": "markdown",
   "id": "bf7007a0",
   "metadata": {},
   "source": [
    "## Part 1 - Creating Dataframes\n",
    "- from lists\n",
    "- from dictionaries\n",
    "- from sql"
   ]
  },
  {
   "cell_type": "code",
   "execution_count": null,
   "id": "e26e613d",
   "metadata": {},
   "outputs": [],
   "source": [
    "#standard imports\n"
   ]
  },
  {
   "cell_type": "markdown",
   "id": "fae6f7a0",
   "metadata": {},
   "source": [
    "format: `pd.DataFrame(data)`"
   ]
  },
  {
   "cell_type": "markdown",
   "id": "1c9a4d6e",
   "metadata": {},
   "source": [
    "### From lists"
   ]
  },
  {
   "cell_type": "code",
   "execution_count": null,
   "id": "1e214a8d",
   "metadata": {},
   "outputs": [],
   "source": [
    "#build a list\n"
   ]
  },
  {
   "cell_type": "code",
   "execution_count": null,
   "id": "56fff486",
   "metadata": {},
   "outputs": [],
   "source": [
    "#pd.DataFrame(data)\n"
   ]
  },
  {
   "cell_type": "code",
   "execution_count": null,
   "id": "2c3df5a6",
   "metadata": {},
   "outputs": [],
   "source": [
    "#build a matrix (list of lists)\n"
   ]
  },
  {
   "cell_type": "code",
   "execution_count": null,
   "id": "a58c8e72",
   "metadata": {},
   "outputs": [],
   "source": [
    "#pd.DataFrame(data)\n"
   ]
  },
  {
   "cell_type": "code",
   "execution_count": null,
   "id": "e4ad5abe",
   "metadata": {},
   "outputs": [],
   "source": [
    "#define column names\n"
   ]
  },
  {
   "cell_type": "code",
   "execution_count": null,
   "id": "f24a3f91",
   "metadata": {},
   "outputs": [],
   "source": [
    "#definte column names when creating df\n"
   ]
  },
  {
   "cell_type": "code",
   "execution_count": null,
   "id": "c66b39c6",
   "metadata": {},
   "outputs": [],
   "source": [
    "#make the matrix an array\n"
   ]
  },
  {
   "cell_type": "code",
   "execution_count": null,
   "id": "4a5275aa",
   "metadata": {},
   "outputs": [],
   "source": [
    "#pd.DataFrame(data)\n"
   ]
  },
  {
   "cell_type": "markdown",
   "id": "d84ac401",
   "metadata": {},
   "source": [
    "### From dictionaries"
   ]
  },
  {
   "cell_type": "code",
   "execution_count": null,
   "id": "72b32979",
   "metadata": {},
   "outputs": [],
   "source": [
    "#create a dictionary with a list as keys\n",
    "#dictionary format: {key:value}\n"
   ]
  },
  {
   "cell_type": "code",
   "execution_count": null,
   "id": "b4636b50",
   "metadata": {},
   "outputs": [],
   "source": [
    "#create df!\n"
   ]
  },
  {
   "cell_type": "markdown",
   "id": "76c5e6db",
   "metadata": {},
   "source": [
    "#### make it more complex"
   ]
  },
  {
   "cell_type": "code",
   "execution_count": null,
   "id": "88fcdab4",
   "metadata": {},
   "outputs": [],
   "source": [
    "#setting random seed\n"
   ]
  },
  {
   "cell_type": "code",
   "execution_count": null,
   "id": "153ccb3b",
   "metadata": {},
   "outputs": [],
   "source": [
    "# Create list of values for names column\n",
    "students = ['Sally', 'Jane', 'Suzie', 'Billy', 'Ada', 'John', 'Thomas',\n",
    "            'Marie', 'Albert', 'Richard', 'Isaac', 'Alan']\n",
    "students"
   ]
  },
  {
   "cell_type": "code",
   "execution_count": null,
   "id": "33525ff2",
   "metadata": {},
   "outputs": [],
   "source": [
    "# Randomly generate arrays of scores for each student for each subject.\n",
    "# Note that all the values need to have the same length here.\n",
    "math_grades = np.random.randint(low=60, high=100, size=len(students))\n",
    "english_grades = np.random.randint(low=60, high=100, size=len(students))\n",
    "reading_grades = np.random.randint(low=60, high=100, size=len(students))"
   ]
  },
  {
   "cell_type": "code",
   "execution_count": null,
   "id": "419c53d5",
   "metadata": {},
   "outputs": [],
   "source": []
  },
  {
   "cell_type": "code",
   "execution_count": null,
   "id": "0298e87f",
   "metadata": {},
   "outputs": [],
   "source": []
  },
  {
   "cell_type": "code",
   "execution_count": null,
   "id": "3c9dd528",
   "metadata": {},
   "outputs": [],
   "source": []
  },
  {
   "cell_type": "code",
   "execution_count": null,
   "id": "59b163ac",
   "metadata": {},
   "outputs": [],
   "source": [
    "# Randomly generate if a student is in classroom A or classroom B\n",
    "classroom = np.random.choice(['A', 'B'], len(students))"
   ]
  },
  {
   "cell_type": "code",
   "execution_count": null,
   "id": "f6543ecf",
   "metadata": {},
   "outputs": [],
   "source": []
  },
  {
   "cell_type": "code",
   "execution_count": null,
   "id": "73630013",
   "metadata": {},
   "outputs": [],
   "source": []
  },
  {
   "cell_type": "code",
   "execution_count": null,
   "id": "a8aaea5a",
   "metadata": {},
   "outputs": [],
   "source": [
    "#combine all values into a dictionary\n"
   ]
  },
  {
   "cell_type": "code",
   "execution_count": null,
   "id": "af12d6bc",
   "metadata": {},
   "outputs": [],
   "source": [
    "#create df! \n"
   ]
  },
  {
   "cell_type": "markdown",
   "id": "d07e78bb",
   "metadata": {},
   "source": [
    "### From SQL"
   ]
  },
  {
   "cell_type": "markdown",
   "id": "d24d6296",
   "metadata": {},
   "source": [
    "We can connect to sql to create a dataframe!! yay!"
   ]
  },
  {
   "cell_type": "markdown",
   "id": "77e7951f",
   "metadata": {},
   "source": [
    "To do this we will use a driver to connect the database to our python code using pymysql driver packages"
   ]
  },
  {
   "cell_type": "markdown",
   "id": "9fd48e50",
   "metadata": {},
   "source": [
    "<div class=\"alert alert-block alert-info\">\n",
    "    Do this in the command line\n",
    "</div>"
   ]
  },
  {
   "cell_type": "markdown",
   "id": "9ff233b8",
   "metadata": {},
   "source": [
    "`python -m pip install pymysql`"
   ]
  },
  {
   "cell_type": "markdown",
   "id": "2e4f2e13",
   "metadata": {},
   "source": [
    "Now that this is installed, we will create a **CONNECTION STRING**"
   ]
  },
  {
   "cell_type": "markdown",
   "id": "107e8e6a",
   "metadata": {},
   "source": [
    "This is a what a **CONNECTION STRING** looks like: "
   ]
  },
  {
   "cell_type": "markdown",
   "id": "102ee04e",
   "metadata": {},
   "source": [
    "`[protocol]://[user]:[password]@[host]/[database_name]`"
   ]
  },
  {
   "cell_type": "markdown",
   "id": "b565ddb7",
   "metadata": {},
   "source": [
    "Example:"
   ]
  },
  {
   "cell_type": "markdown",
   "id": "8ed5a973",
   "metadata": {},
   "source": [
    "- protocol = 'mysql+pymysql'\n",
    "- user = 'codeup'\n",
    "- password = 'p@assw0rd'\n",
    "- host = '123.123.123.123'\n",
    "- database_name = 'some_db'"
   ]
  },
  {
   "cell_type": "code",
   "execution_count": null,
   "id": "bfeb9cac",
   "metadata": {},
   "outputs": [],
   "source": [
    "#example\n"
   ]
  },
  {
   "cell_type": "markdown",
   "id": "0950fa4b",
   "metadata": {},
   "source": [
    "- This **CONNECTION STRING** is unique to this example user\n",
    "- You will each make a unique **CONNECTION STRING** with your credentials"
   ]
  },
  {
   "cell_type": "markdown",
   "id": "5b1a6ec3",
   "metadata": {},
   "source": [
    "<div class=\"alert alert-block alert-warning\">\n",
    "    Should you type your username and password in your .py or .ipynb?\n",
    "</div>"
   ]
  },
  {
   "cell_type": "markdown",
   "id": "ca5b1736",
   "metadata": {},
   "source": [
    "answer: \n",
    "\n",
    "<div class=\"alert alert-block alert-danger\">\n",
    "    NO! \n",
    "</div>"
   ]
  },
  {
   "cell_type": "markdown",
   "id": "c912d9cd",
   "metadata": {},
   "source": [
    "# Q: Why not?"
   ]
  },
  {
   "cell_type": "markdown",
   "id": "29f425e8",
   "metadata": {},
   "source": [
    "How to avoid this? "
   ]
  },
  {
   "cell_type": "markdown",
   "id": "c0f6020b",
   "metadata": {},
   "source": [
    "1. Create a separate file called env.py\n",
    "2. Enter in your credentials\n",
    "3. Put your env.py in the same folder as your working file\n",
    "4. Import your env\n",
    "5. Create your connection string from imported variables"
   ]
  },
  {
   "cell_type": "markdown",
   "id": "3a99ca11",
   "metadata": {},
   "source": [
    "<div class=\"alert alert-block alert-warning\">\n",
    "    Should you push your env.py file to github?\n",
    "</div>"
   ]
  },
  {
   "cell_type": "markdown",
   "id": "3e57b7c1",
   "metadata": {},
   "source": [
    "answer: \n",
    "<div class=\"alert alert-block alert-danger\">\n",
    "     NO! \n",
    "</div>"
   ]
  },
  {
   "cell_type": "markdown",
   "id": "7d992791",
   "metadata": {},
   "source": [
    "# Q: Why not? \n"
   ]
  },
  {
   "cell_type": "code",
   "execution_count": null,
   "id": "43442da1",
   "metadata": {},
   "outputs": [],
   "source": [
    "#get my credentials \n"
   ]
  },
  {
   "cell_type": "code",
   "execution_count": null,
   "id": "3df81afb",
   "metadata": {},
   "outputs": [],
   "source": [
    "#pull in the hostname\n"
   ]
  },
  {
   "cell_type": "code",
   "execution_count": null,
   "id": "b48d17ae",
   "metadata": {},
   "outputs": [],
   "source": [
    "#pull in the username\n"
   ]
  },
  {
   "cell_type": "code",
   "execution_count": null,
   "id": "91f7cdcb",
   "metadata": {},
   "outputs": [],
   "source": [
    "#pull in the password\n"
   ]
  },
  {
   "cell_type": "markdown",
   "id": "d6b65b9c",
   "metadata": {},
   "source": [
    "<div class=\"alert alert-block alert-warning\">\n",
    "    Should you leave your username and password printed out on your .ipynb?\n",
    "</div>"
   ]
  },
  {
   "cell_type": "markdown",
   "id": "e6227d46",
   "metadata": {},
   "source": [
    "answer:\n",
    "\n",
    "<div class=\"alert alert-block alert-danger\">\n",
    "    NO! \n",
    "</div>"
   ]
  },
  {
   "cell_type": "markdown",
   "id": "5e899ec6",
   "metadata": {},
   "source": [
    "# Q: Why not? "
   ]
  },
  {
   "cell_type": "markdown",
   "id": "82827aaa",
   "metadata": {},
   "source": [
    "lets create our **CONNECTION STRING** saved into a variable called url"
   ]
  },
  {
   "cell_type": "code",
   "execution_count": null,
   "id": "de458224",
   "metadata": {},
   "outputs": [],
   "source": [
    "#create connection string\n",
    "url = f'mysql+pymysql://{env.user}:{env.password}@{env.host}/some_db'"
   ]
  },
  {
   "cell_type": "markdown",
   "id": "96988f13",
   "metadata": {},
   "source": [
    "<div class=\"alert alert-block alert-warning\">\n",
    "    Should you print out on your connection string?\n",
    "</div>"
   ]
  },
  {
   "cell_type": "markdown",
   "id": "ffdd1e2c",
   "metadata": {},
   "source": [
    "answer:\n",
    "\n",
    "<div class=\"alert alert-block alert-danger\">\n",
    "    NO! \n",
    "</div>"
   ]
  },
  {
   "cell_type": "markdown",
   "id": "35d9582d",
   "metadata": {},
   "source": [
    "# Q: Why not? "
   ]
  },
  {
   "cell_type": "markdown",
   "id": "304f89f0",
   "metadata": {},
   "source": [
    "Now that we have created our **CONNECTION STRING**, we can connect to SQL"
   ]
  },
  {
   "cell_type": "markdown",
   "id": "ed616657",
   "metadata": {},
   "source": [
    "#### Let's connect to the employees database and pull the first 5 rows"
   ]
  },
  {
   "cell_type": "markdown",
   "id": "5e2354cc",
   "metadata": {},
   "source": [
    "format: `pd.read_sql('literal sql syntax to pull query', connection_string)`"
   ]
  },
  {
   "cell_type": "code",
   "execution_count": null,
   "id": "6d01bf9d",
   "metadata": {},
   "outputs": [],
   "source": [
    "# url"
   ]
  },
  {
   "cell_type": "markdown",
   "id": "c604ae98",
   "metadata": {},
   "source": [
    "Q: What do you notice about our current connection string?"
   ]
  },
  {
   "cell_type": "code",
   "execution_count": null,
   "id": "4663d49c",
   "metadata": {},
   "outputs": [],
   "source": [
    "#url\n"
   ]
  },
  {
   "cell_type": "code",
   "execution_count": null,
   "id": "e9c74752",
   "metadata": {},
   "outputs": [],
   "source": [
    "#connect to sql and pull query into df\n"
   ]
  },
  {
   "cell_type": "markdown",
   "id": "a8b53004",
   "metadata": {},
   "source": [
    "#### I like my sql querys formatted with line breaks"
   ]
  },
  {
   "cell_type": "code",
   "execution_count": null,
   "id": "92a8df31",
   "metadata": {},
   "outputs": [],
   "source": []
  },
  {
   "cell_type": "markdown",
   "id": "efc162e0",
   "metadata": {},
   "source": [
    "#### Let's make a bigger query:"
   ]
  },
  {
   "cell_type": "markdown",
   "id": "9f7f32c4",
   "metadata": {},
   "source": [
    "- I want a dataframe with emp_no, first_name, last_name, and dept_name\n",
    "- I want it only for women and their current department\n",
    "- Only pull back the first 10 employees"
   ]
  },
  {
   "cell_type": "code",
   "execution_count": null,
   "id": "3ff08a5c",
   "metadata": {},
   "outputs": [],
   "source": [
    "#query\n"
   ]
  },
  {
   "cell_type": "code",
   "execution_count": null,
   "id": "ef54c444",
   "metadata": {},
   "outputs": [],
   "source": [
    "#connect to sql and pull query into df\n"
   ]
  },
  {
   "cell_type": "markdown",
   "id": "ceea894f",
   "metadata": {},
   "source": [
    "# Don't push your passwords!"
   ]
  },
  {
   "cell_type": "markdown",
   "id": "fdfdef64",
   "metadata": {},
   "source": [
    "Note: \n",
    "- host = 'data.codeup.com'\n",
    "- your personal username and password are saved in the google classroom under cloud credentials"
   ]
  },
  {
   "cell_type": "code",
   "execution_count": null,
   "id": "e507d053",
   "metadata": {},
   "outputs": [],
   "source": []
  },
  {
   "cell_type": "code",
   "execution_count": null,
   "id": "37db4387",
   "metadata": {},
   "outputs": [],
   "source": []
  }
 ],
 "metadata": {
  "kernelspec": {
   "display_name": "Python 3 (ipykernel)",
   "language": "python",
   "name": "python3"
  },
  "language_info": {
   "codemirror_mode": {
    "name": "ipython",
    "version": 3
   },
   "file_extension": ".py",
   "mimetype": "text/x-python",
   "name": "python",
   "nbconvert_exporter": "python",
   "pygments_lexer": "ipython3",
   "version": "3.9.12"
  }
 },
 "nbformat": 4,
 "nbformat_minor": 5
}
