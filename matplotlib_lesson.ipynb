{
 "cells": [
  {
   "cell_type": "markdown",
   "id": "29c34a6c",
   "metadata": {},
   "source": [
    "# Matplotlib - Visualization with Python"
   ]
  },
  {
   "cell_type": "markdown",
   "id": "e1f84e2f",
   "metadata": {},
   "source": [
    "What is it?\n",
    "- Comprehensive plotting library for python\n",
    "\n",
    "Why do we care? \n",
    "- Because visuals are often incrediably helpful for digesting data\n",
    "- matplotlib allows for more customization than .plot"
   ]
  },
  {
   "cell_type": "markdown",
   "id": "d6a1edf2",
   "metadata": {},
   "source": [
    "Today: \n",
    "- discussing following types of charts\n",
    "    - Lineplot\n",
    "    - Scatter plot\n",
    "    - Histograms\n",
    "- when to use each one\n",
    "- how to customize them\n",
    "- object-oriented approach\n",
    "\n",
    "More knowledge: Gallery of plots\n",
    "https://matplotlib.org/3.3.3/gallery/index.html"
   ]
  },
  {
   "cell_type": "markdown",
   "id": "3d263462",
   "metadata": {},
   "source": [
    "## Import "
   ]
  },
  {
   "cell_type": "code",
   "execution_count": null,
   "id": "71e4f4a2",
   "metadata": {},
   "outputs": [],
   "source": []
  },
  {
   "cell_type": "markdown",
   "id": "b06b54ca",
   "metadata": {},
   "source": [
    "- `matplotlib.pyplot` is a collection of functions that make matplotlib work like MATLAB\n",
    "- `plt` is the standard alias for matplotlib"
   ]
  },
  {
   "cell_type": "markdown",
   "id": "177b612f",
   "metadata": {},
   "source": [
    "## Line plot"
   ]
  },
  {
   "cell_type": "markdown",
   "id": "82986f98",
   "metadata": {},
   "source": [
    "- used for continuous values\n",
    "- generally is showing some type of trend over time (does not jump around on the x-axis)\n",
    "\n",
    "- format: `.plot()`"
   ]
  },
  {
   "cell_type": "markdown",
   "id": "f9a0e949",
   "metadata": {},
   "source": [
    "### Single line with one input"
   ]
  },
  {
   "cell_type": "code",
   "execution_count": 27,
   "id": "5d977a00",
   "metadata": {},
   "outputs": [],
   "source": [
    "x = [2,3,4,5]"
   ]
  },
  {
   "cell_type": "code",
   "execution_count": null,
   "id": "dd2aeaef",
   "metadata": {},
   "outputs": [],
   "source": []
  },
  {
   "cell_type": "markdown",
   "id": "4672a284",
   "metadata": {},
   "source": [
    "> Q: what are the y-values of our plot? \n",
    "\n",
    "> A: \n",
    "\n",
    "> Q: what are the x-values of our plot?\n",
    "\n",
    "> A:"
   ]
  },
  {
   "cell_type": "code",
   "execution_count": 7,
   "id": "947280b7",
   "metadata": {
    "scrolled": true
   },
   "outputs": [],
   "source": [
    "x = range(100)"
   ]
  },
  {
   "cell_type": "code",
   "execution_count": null,
   "id": "68323517",
   "metadata": {},
   "outputs": [],
   "source": []
  },
  {
   "cell_type": "markdown",
   "id": "9e75e76f",
   "metadata": {},
   "source": [
    "### Single line with x & y defined"
   ]
  },
  {
   "cell_type": "code",
   "execution_count": 8,
   "id": "a69b002d",
   "metadata": {},
   "outputs": [],
   "source": [
    "x = range(50)\n",
    "y = range(50,100)"
   ]
  },
  {
   "cell_type": "code",
   "execution_count": null,
   "id": "1b41ba1f",
   "metadata": {},
   "outputs": [],
   "source": []
  },
  {
   "cell_type": "markdown",
   "id": "e86f1f13",
   "metadata": {},
   "source": [
    "### Multiple lines"
   ]
  },
  {
   "cell_type": "code",
   "execution_count": 9,
   "id": "1c717e43",
   "metadata": {},
   "outputs": [],
   "source": [
    "x1 = [1,2,3,4]\n",
    "y1 = [5,8,2,10]\n",
    "\n",
    "x2 = [1.5,2.5,3.5,4.5]\n",
    "y2 = [10,8,9,4]"
   ]
  },
  {
   "cell_type": "code",
   "execution_count": null,
   "id": "c66b6510",
   "metadata": {},
   "outputs": [],
   "source": []
  },
  {
   "cell_type": "code",
   "execution_count": null,
   "id": "052ecdab",
   "metadata": {},
   "outputs": [],
   "source": []
  },
  {
   "cell_type": "markdown",
   "id": "0cbbbdf9",
   "metadata": {},
   "source": [
    "## Scatterplot"
   ]
  },
  {
   "cell_type": "markdown",
   "id": "cc820e4e",
   "metadata": {},
   "source": [
    "- used for continuous values\n",
    "- is generally used for showing a relationship between two values\n",
    "- always need x and y coordinates\n",
    "- format: `.scatter()`\n"
   ]
  },
  {
   "cell_type": "markdown",
   "id": "8c936a36",
   "metadata": {},
   "source": [
    "### One set of data"
   ]
  },
  {
   "cell_type": "code",
   "execution_count": 10,
   "id": "89de8a9d",
   "metadata": {},
   "outputs": [],
   "source": [
    "from random import randint"
   ]
  },
  {
   "cell_type": "code",
   "execution_count": 11,
   "id": "757130bc",
   "metadata": {},
   "outputs": [],
   "source": [
    "x = [randint(-5, 55) + n for n in range(150)]\n",
    "y = range(len(x))"
   ]
  },
  {
   "cell_type": "code",
   "execution_count": null,
   "id": "47504227",
   "metadata": {},
   "outputs": [],
   "source": []
  },
  {
   "cell_type": "code",
   "execution_count": null,
   "id": "c87a711a",
   "metadata": {},
   "outputs": [],
   "source": []
  },
  {
   "cell_type": "markdown",
   "id": "b34070c9",
   "metadata": {},
   "source": [
    "> Q: what happens if we try to use a line plot to visualize this data?"
   ]
  },
  {
   "cell_type": "code",
   "execution_count": null,
   "id": "096c1c42",
   "metadata": {},
   "outputs": [],
   "source": []
  },
  {
   "cell_type": "markdown",
   "id": "88a2872c",
   "metadata": {},
   "source": [
    "### Two sets of data"
   ]
  },
  {
   "cell_type": "code",
   "execution_count": 17,
   "id": "7b52927e",
   "metadata": {},
   "outputs": [],
   "source": [
    "x1 = [randint(-5, 35) + n for n in range(150)]\n",
    "y1 = range(len(x1))\n",
    "\n",
    "x2 = [randint(-30, 50) + n for n in range(150)]\n",
    "y2 = range(len(x2))"
   ]
  },
  {
   "cell_type": "code",
   "execution_count": null,
   "id": "536d0e5e",
   "metadata": {},
   "outputs": [],
   "source": []
  },
  {
   "cell_type": "markdown",
   "id": "797d578c",
   "metadata": {},
   "source": [
    "## Histogram"
   ]
  },
  {
   "cell_type": "markdown",
   "id": "2b98c905",
   "metadata": {},
   "source": [
    "- typically used for continuous values\n",
    "- shows the distribution of values for a single column by creating bins\n",
    "- format: `.hist()`\n"
   ]
  },
  {
   "cell_type": "code",
   "execution_count": 20,
   "id": "6c20b4a8",
   "metadata": {},
   "outputs": [],
   "source": [
    "from pydataset import data"
   ]
  },
  {
   "cell_type": "code",
   "execution_count": 21,
   "id": "3dcf2f7e",
   "metadata": {},
   "outputs": [
    {
     "data": {
      "text/html": [
       "<div>\n",
       "<style scoped>\n",
       "    .dataframe tbody tr th:only-of-type {\n",
       "        vertical-align: middle;\n",
       "    }\n",
       "\n",
       "    .dataframe tbody tr th {\n",
       "        vertical-align: top;\n",
       "    }\n",
       "\n",
       "    .dataframe thead th {\n",
       "        text-align: right;\n",
       "    }\n",
       "</style>\n",
       "<table border=\"1\" class=\"dataframe\">\n",
       "  <thead>\n",
       "    <tr style=\"text-align: right;\">\n",
       "      <th></th>\n",
       "      <th>weight</th>\n",
       "      <th>speed</th>\n",
       "      <th>hoppers</th>\n",
       "      <th>specials</th>\n",
       "    </tr>\n",
       "  </thead>\n",
       "  <tbody>\n",
       "    <tr>\n",
       "      <th>1</th>\n",
       "      <td>6000.0</td>\n",
       "      <td>35.0</td>\n",
       "      <td>False</td>\n",
       "      <td>False</td>\n",
       "    </tr>\n",
       "    <tr>\n",
       "      <th>2</th>\n",
       "      <td>4000.0</td>\n",
       "      <td>26.0</td>\n",
       "      <td>False</td>\n",
       "      <td>False</td>\n",
       "    </tr>\n",
       "    <tr>\n",
       "      <th>3</th>\n",
       "      <td>3000.0</td>\n",
       "      <td>25.0</td>\n",
       "      <td>False</td>\n",
       "      <td>False</td>\n",
       "    </tr>\n",
       "    <tr>\n",
       "      <th>4</th>\n",
       "      <td>1400.0</td>\n",
       "      <td>45.0</td>\n",
       "      <td>False</td>\n",
       "      <td>False</td>\n",
       "    </tr>\n",
       "    <tr>\n",
       "      <th>5</th>\n",
       "      <td>400.0</td>\n",
       "      <td>70.0</td>\n",
       "      <td>False</td>\n",
       "      <td>False</td>\n",
       "    </tr>\n",
       "  </tbody>\n",
       "</table>\n",
       "</div>"
      ],
      "text/plain": [
       "   weight  speed  hoppers  specials\n",
       "1  6000.0   35.0    False     False\n",
       "2  4000.0   26.0    False     False\n",
       "3  3000.0   25.0    False     False\n",
       "4  1400.0   45.0    False     False\n",
       "5   400.0   70.0    False     False"
      ]
     },
     "execution_count": 21,
     "metadata": {},
     "output_type": "execute_result"
    }
   ],
   "source": [
    "df = data('Mammals')\n",
    "df.head()"
   ]
  },
  {
   "cell_type": "code",
   "execution_count": null,
   "id": "19bbc5ff",
   "metadata": {},
   "outputs": [],
   "source": []
  },
  {
   "cell_type": "code",
   "execution_count": 29,
   "id": "4906b7e2",
   "metadata": {},
   "outputs": [],
   "source": [
    "#compare to value_counts\n"
   ]
  },
  {
   "cell_type": "code",
   "execution_count": null,
   "id": "e0d4d956",
   "metadata": {},
   "outputs": [],
   "source": []
  },
  {
   "cell_type": "markdown",
   "id": "667f455f",
   "metadata": {},
   "source": [
    "#### histogram on a categorical value?"
   ]
  },
  {
   "cell_type": "code",
   "execution_count": null,
   "id": "9eb8c346",
   "metadata": {},
   "outputs": [],
   "source": []
  },
  {
   "cell_type": "code",
   "execution_count": null,
   "id": "c4ea31a0",
   "metadata": {},
   "outputs": [],
   "source": []
  },
  {
   "cell_type": "markdown",
   "id": "188a02ed",
   "metadata": {},
   "source": [
    "# FORMATTING!!!!!!!! "
   ]
  },
  {
   "cell_type": "markdown",
   "id": "4cb9d416",
   "metadata": {},
   "source": [
    "## Example 1"
   ]
  },
  {
   "cell_type": "code",
   "execution_count": 41,
   "id": "6fa5a04a",
   "metadata": {},
   "outputs": [],
   "source": [
    "from random import randint\n",
    "\n",
    "x1 = range(10)\n",
    "y1 = [randint(0,10) + j for j in x1]\n",
    "\n",
    "x2 = list(range(10))\n",
    "y2 = [randint(0,10) + j for j in x2]\n",
    "\n",
    "x3 = [0,1,2,3,4,5,6,7,8,9]\n",
    "y3 = [randint(0,10) + k for k in x3]"
   ]
  },
  {
   "cell_type": "markdown",
   "id": "deaae2dd",
   "metadata": {},
   "source": [
    "#### add 1 to each value in y3 "
   ]
  },
  {
   "cell_type": "code",
   "execution_count": null,
   "id": "88f960d0",
   "metadata": {},
   "outputs": [],
   "source": []
  },
  {
   "cell_type": "code",
   "execution_count": null,
   "id": "5b077060",
   "metadata": {},
   "outputs": [],
   "source": []
  },
  {
   "cell_type": "markdown",
   "id": "d95b54e6",
   "metadata": {},
   "source": [
    "### Basic plot of all lines"
   ]
  },
  {
   "cell_type": "code",
   "execution_count": null,
   "id": "9e2a8f43",
   "metadata": {},
   "outputs": [],
   "source": []
  },
  {
   "cell_type": "markdown",
   "id": "9834bd96",
   "metadata": {},
   "source": [
    "### Custom ticks"
   ]
  },
  {
   "cell_type": "markdown",
   "id": "1ed213af",
   "metadata": {},
   "source": [
    "- `.xticks()`\n",
    "- `.yticks()`"
   ]
  },
  {
   "cell_type": "code",
   "execution_count": null,
   "id": "f76790ca",
   "metadata": {},
   "outputs": [],
   "source": []
  },
  {
   "cell_type": "markdown",
   "id": "e596c6c9",
   "metadata": {},
   "source": [
    "### Markers & line styles"
   ]
  },
  {
   "cell_type": "markdown",
   "id": "eaf4e44d",
   "metadata": {},
   "source": [
    "- `plot(marker=, ls=)`"
   ]
  },
  {
   "cell_type": "code",
   "execution_count": null,
   "id": "61df15c9",
   "metadata": {},
   "outputs": [],
   "source": []
  },
  {
   "cell_type": "markdown",
   "id": "22434527",
   "metadata": {},
   "source": [
    "### Figure size & Subplots"
   ]
  },
  {
   "cell_type": "markdown",
   "id": "6b4cdc92",
   "metadata": {},
   "source": [
    "- subplots lets us build multiple little plots inside one plot frame\n",
    "- `.subplot([number_of_rows][number_of_columns][plot_number])`\n",
    "\n",
    "\n",
    "- change the size of the whole overall plot\n",
    "- `.figure(figsize=())`"
   ]
  },
  {
   "cell_type": "code",
   "execution_count": null,
   "id": "a5aaf016",
   "metadata": {},
   "outputs": [],
   "source": []
  },
  {
   "cell_type": "markdown",
   "id": "9da26e32",
   "metadata": {},
   "source": [
    "### Add limits"
   ]
  },
  {
   "cell_type": "markdown",
   "id": "c2cad90a",
   "metadata": {},
   "source": [
    "- `.xlim()`\n",
    "- `.ylim()`"
   ]
  },
  {
   "cell_type": "code",
   "execution_count": null,
   "id": "5a828b22",
   "metadata": {},
   "outputs": [],
   "source": []
  },
  {
   "cell_type": "markdown",
   "id": "88e89010",
   "metadata": {},
   "source": [
    "### Remove subplots"
   ]
  },
  {
   "cell_type": "code",
   "execution_count": null,
   "id": "df7b8ef5",
   "metadata": {},
   "outputs": [],
   "source": []
  },
  {
   "cell_type": "markdown",
   "id": "56ce5701",
   "metadata": {},
   "source": [
    "### Add text, lines, & arrows!!"
   ]
  },
  {
   "cell_type": "markdown",
   "id": "d7f89963",
   "metadata": {},
   "source": [
    "- `.text`: add text to the plot\n",
    "- `.hlines`: add horizontal line\n",
    "- `.vlines`: add vertical line\n",
    "- `.annotate`: makes arrows"
   ]
  },
  {
   "cell_type": "code",
   "execution_count": null,
   "id": "40217510",
   "metadata": {},
   "outputs": [],
   "source": []
  },
  {
   "cell_type": "code",
   "execution_count": null,
   "id": "2b77b3d7",
   "metadata": {},
   "outputs": [],
   "source": []
  },
  {
   "cell_type": "markdown",
   "id": "ce871e0e",
   "metadata": {},
   "source": [
    "## Example 2"
   ]
  },
  {
   "cell_type": "markdown",
   "id": "6c5e1ac4",
   "metadata": {},
   "source": [
    "data obtained from: https://www.kaggle.com/datasets/teertha/ushealthinsurancedataset"
   ]
  },
  {
   "cell_type": "code",
   "execution_count": 58,
   "id": "5d497a09",
   "metadata": {},
   "outputs": [],
   "source": [
    "import pandas as pd"
   ]
  },
  {
   "cell_type": "code",
   "execution_count": 59,
   "id": "e8987f01",
   "metadata": {},
   "outputs": [
    {
     "data": {
      "text/html": [
       "<div>\n",
       "<style scoped>\n",
       "    .dataframe tbody tr th:only-of-type {\n",
       "        vertical-align: middle;\n",
       "    }\n",
       "\n",
       "    .dataframe tbody tr th {\n",
       "        vertical-align: top;\n",
       "    }\n",
       "\n",
       "    .dataframe thead th {\n",
       "        text-align: right;\n",
       "    }\n",
       "</style>\n",
       "<table border=\"1\" class=\"dataframe\">\n",
       "  <thead>\n",
       "    <tr style=\"text-align: right;\">\n",
       "      <th></th>\n",
       "      <th>age</th>\n",
       "      <th>sex</th>\n",
       "      <th>bmi</th>\n",
       "      <th>children</th>\n",
       "      <th>smoker</th>\n",
       "      <th>region</th>\n",
       "      <th>charges</th>\n",
       "    </tr>\n",
       "  </thead>\n",
       "  <tbody>\n",
       "    <tr>\n",
       "      <th>0</th>\n",
       "      <td>19</td>\n",
       "      <td>female</td>\n",
       "      <td>27.900</td>\n",
       "      <td>0</td>\n",
       "      <td>yes</td>\n",
       "      <td>southwest</td>\n",
       "      <td>16884.92400</td>\n",
       "    </tr>\n",
       "    <tr>\n",
       "      <th>1</th>\n",
       "      <td>18</td>\n",
       "      <td>male</td>\n",
       "      <td>33.770</td>\n",
       "      <td>1</td>\n",
       "      <td>no</td>\n",
       "      <td>southeast</td>\n",
       "      <td>1725.55230</td>\n",
       "    </tr>\n",
       "    <tr>\n",
       "      <th>2</th>\n",
       "      <td>28</td>\n",
       "      <td>male</td>\n",
       "      <td>33.000</td>\n",
       "      <td>3</td>\n",
       "      <td>no</td>\n",
       "      <td>southeast</td>\n",
       "      <td>4449.46200</td>\n",
       "    </tr>\n",
       "    <tr>\n",
       "      <th>3</th>\n",
       "      <td>33</td>\n",
       "      <td>male</td>\n",
       "      <td>22.705</td>\n",
       "      <td>0</td>\n",
       "      <td>no</td>\n",
       "      <td>northwest</td>\n",
       "      <td>21984.47061</td>\n",
       "    </tr>\n",
       "    <tr>\n",
       "      <th>4</th>\n",
       "      <td>32</td>\n",
       "      <td>male</td>\n",
       "      <td>28.880</td>\n",
       "      <td>0</td>\n",
       "      <td>no</td>\n",
       "      <td>northwest</td>\n",
       "      <td>3866.85520</td>\n",
       "    </tr>\n",
       "    <tr>\n",
       "      <th>...</th>\n",
       "      <td>...</td>\n",
       "      <td>...</td>\n",
       "      <td>...</td>\n",
       "      <td>...</td>\n",
       "      <td>...</td>\n",
       "      <td>...</td>\n",
       "      <td>...</td>\n",
       "    </tr>\n",
       "    <tr>\n",
       "      <th>1333</th>\n",
       "      <td>50</td>\n",
       "      <td>male</td>\n",
       "      <td>30.970</td>\n",
       "      <td>3</td>\n",
       "      <td>no</td>\n",
       "      <td>northwest</td>\n",
       "      <td>10600.54830</td>\n",
       "    </tr>\n",
       "    <tr>\n",
       "      <th>1334</th>\n",
       "      <td>18</td>\n",
       "      <td>female</td>\n",
       "      <td>31.920</td>\n",
       "      <td>0</td>\n",
       "      <td>no</td>\n",
       "      <td>northeast</td>\n",
       "      <td>2205.98080</td>\n",
       "    </tr>\n",
       "    <tr>\n",
       "      <th>1335</th>\n",
       "      <td>18</td>\n",
       "      <td>female</td>\n",
       "      <td>36.850</td>\n",
       "      <td>0</td>\n",
       "      <td>no</td>\n",
       "      <td>southeast</td>\n",
       "      <td>1629.83350</td>\n",
       "    </tr>\n",
       "    <tr>\n",
       "      <th>1336</th>\n",
       "      <td>21</td>\n",
       "      <td>female</td>\n",
       "      <td>25.800</td>\n",
       "      <td>0</td>\n",
       "      <td>no</td>\n",
       "      <td>southwest</td>\n",
       "      <td>2007.94500</td>\n",
       "    </tr>\n",
       "    <tr>\n",
       "      <th>1337</th>\n",
       "      <td>61</td>\n",
       "      <td>female</td>\n",
       "      <td>29.070</td>\n",
       "      <td>0</td>\n",
       "      <td>yes</td>\n",
       "      <td>northwest</td>\n",
       "      <td>29141.36030</td>\n",
       "    </tr>\n",
       "  </tbody>\n",
       "</table>\n",
       "<p>1338 rows × 7 columns</p>\n",
       "</div>"
      ],
      "text/plain": [
       "      age     sex     bmi  children smoker     region      charges\n",
       "0      19  female  27.900         0    yes  southwest  16884.92400\n",
       "1      18    male  33.770         1     no  southeast   1725.55230\n",
       "2      28    male  33.000         3     no  southeast   4449.46200\n",
       "3      33    male  22.705         0     no  northwest  21984.47061\n",
       "4      32    male  28.880         0     no  northwest   3866.85520\n",
       "...   ...     ...     ...       ...    ...        ...          ...\n",
       "1333   50    male  30.970         3     no  northwest  10600.54830\n",
       "1334   18  female  31.920         0     no  northeast   2205.98080\n",
       "1335   18  female  36.850         0     no  southeast   1629.83350\n",
       "1336   21  female  25.800         0     no  southwest   2007.94500\n",
       "1337   61  female  29.070         0    yes  northwest  29141.36030\n",
       "\n",
       "[1338 rows x 7 columns]"
      ]
     },
     "execution_count": 59,
     "metadata": {},
     "output_type": "execute_result"
    }
   ],
   "source": [
    "df = pd.read_csv('insurance.csv')\n",
    "df"
   ]
  },
  {
   "cell_type": "markdown",
   "id": "b226b5cb",
   "metadata": {},
   "source": [
    "### Basic plot"
   ]
  },
  {
   "cell_type": "markdown",
   "id": "4f2febc7",
   "metadata": {},
   "source": [
    "#### plot: bmi vs charges"
   ]
  },
  {
   "cell_type": "markdown",
   "id": "8ed745cd",
   "metadata": {},
   "source": [
    "Q: what kind of variable is bmi?\n",
    "- A: \n",
    "\n",
    "Q: what kind of variable is charges?\n",
    "- A:\n",
    "\n",
    "Q: what kind of plot do we want to use to compare these two variables?\n",
    "- A:"
   ]
  },
  {
   "cell_type": "code",
   "execution_count": null,
   "id": "5a15e332",
   "metadata": {},
   "outputs": [],
   "source": []
  },
  {
   "cell_type": "markdown",
   "id": "e88ee626",
   "metadata": {},
   "source": [
    "### Basic plot - two sets of data"
   ]
  },
  {
   "cell_type": "markdown",
   "id": "71fcbc5c",
   "metadata": {},
   "source": [
    "#### plot: bmi vs charges for smoker and non-smoker"
   ]
  },
  {
   "cell_type": "markdown",
   "id": "78f14f39",
   "metadata": {},
   "source": [
    "Q: what kind of variable is smoker?\n",
    "- A:"
   ]
  },
  {
   "cell_type": "code",
   "execution_count": 64,
   "id": "38cb4a9e",
   "metadata": {},
   "outputs": [],
   "source": [
    "#make two subset dfs\n"
   ]
  },
  {
   "cell_type": "code",
   "execution_count": null,
   "id": "a8412fb9",
   "metadata": {},
   "outputs": [],
   "source": []
  },
  {
   "cell_type": "markdown",
   "id": "7c3a0e6e",
   "metadata": {},
   "source": [
    "### Color"
   ]
  },
  {
   "cell_type": "markdown",
   "id": "aa83a864",
   "metadata": {},
   "source": [
    "- list of colors in matplotlib: https://matplotlib.org/stable/gallery/color/named_colors.html"
   ]
  },
  {
   "cell_type": "code",
   "execution_count": null,
   "id": "3cb13708",
   "metadata": {},
   "outputs": [],
   "source": []
  },
  {
   "cell_type": "markdown",
   "id": "f93de412",
   "metadata": {},
   "source": [
    "### Transparency"
   ]
  },
  {
   "cell_type": "code",
   "execution_count": null,
   "id": "f0014767",
   "metadata": {},
   "outputs": [],
   "source": []
  },
  {
   "cell_type": "markdown",
   "id": "70276bd4",
   "metadata": {},
   "source": [
    "### Size & Shape"
   ]
  },
  {
   "cell_type": "code",
   "execution_count": null,
   "id": "2e6c845e",
   "metadata": {},
   "outputs": [],
   "source": []
  },
  {
   "cell_type": "markdown",
   "id": "a5bf1c40",
   "metadata": {},
   "source": [
    "### Finalize"
   ]
  },
  {
   "cell_type": "markdown",
   "id": "8de3a06d",
   "metadata": {},
   "source": [
    "Q: What is our current plot showing?\n",
    "\n",
    "- A: "
   ]
  },
  {
   "cell_type": "markdown",
   "id": "8f9970a3",
   "metadata": {},
   "source": [
    "- `.title`: sets the title of the plot\n",
    "- `.xlabel`: sets the label of the xaxis\n",
    "- `.ylabel`: sets the label of the yaxis\n",
    "- `.legend`: creates a legend"
   ]
  },
  {
   "cell_type": "code",
   "execution_count": null,
   "id": "c7b6f3dd",
   "metadata": {},
   "outputs": [],
   "source": []
  },
  {
   "cell_type": "code",
   "execution_count": null,
   "id": "82caf13e",
   "metadata": {},
   "outputs": [],
   "source": []
  },
  {
   "cell_type": "markdown",
   "id": "a28836a3",
   "metadata": {},
   "source": [
    "### Save Figure"
   ]
  },
  {
   "cell_type": "markdown",
   "id": "9a894bb7",
   "metadata": {},
   "source": [
    "- defaults to .png\n",
    "- `.savefig('my_design')`"
   ]
  },
  {
   "cell_type": "code",
   "execution_count": null,
   "id": "187fcedf",
   "metadata": {},
   "outputs": [],
   "source": []
  },
  {
   "cell_type": "markdown",
   "id": "477d1cdd",
   "metadata": {},
   "source": [
    "## Object Oriented Approach"
   ]
  },
  {
   "cell_type": "markdown",
   "id": "2f98bc34",
   "metadata": {},
   "source": [
    "- creating objects (variables) and then manipulating them"
   ]
  },
  {
   "cell_type": "code",
   "execution_count": 70,
   "id": "ca6daaf3",
   "metadata": {},
   "outputs": [],
   "source": [
    "x = range(5)\n",
    "y = [2,1.1,7,-2,10]"
   ]
  },
  {
   "cell_type": "code",
   "execution_count": null,
   "id": "6c76d2d8",
   "metadata": {},
   "outputs": [],
   "source": []
  },
  {
   "cell_type": "code",
   "execution_count": null,
   "id": "f8d24cb4",
   "metadata": {},
   "outputs": [],
   "source": []
  },
  {
   "cell_type": "code",
   "execution_count": null,
   "id": "8ec419c2",
   "metadata": {},
   "outputs": [],
   "source": []
  }
 ],
 "metadata": {
  "kernelspec": {
   "display_name": "Python 3 (ipykernel)",
   "language": "python",
   "name": "python3"
  },
  "language_info": {
   "codemirror_mode": {
    "name": "ipython",
    "version": 3
   },
   "file_extension": ".py",
   "mimetype": "text/x-python",
   "name": "python",
   "nbconvert_exporter": "python",
   "pygments_lexer": "ipython3",
   "version": "3.9.12"
  }
 },
 "nbformat": 4,
 "nbformat_minor": 5
}
